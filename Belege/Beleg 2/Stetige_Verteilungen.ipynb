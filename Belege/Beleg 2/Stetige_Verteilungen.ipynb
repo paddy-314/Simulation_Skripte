{
 "cells": [
  {
   "cell_type": "code",
   "execution_count": null,
   "metadata": {},
   "outputs": [],
   "source": [
    "import numpy as np\n",
    "import sympy as sy\n",
    "from sympy.abc import x, a\n",
    "from IPython.display import display, Math\n",
    "\n",
    "xmin = 0\n",
    "xmax = 1\n",
    "\n",
    "f = sy.Piecewise(((x**2/a)+x/13, (x>=xmin) & (x<=xmax)), (0,True)) # define function, lower and upper limit; 0 else\n",
    "\n",
    "#P(x_unten <= X <= x_oben)\n",
    "x_unten = 0.5\n",
    "x_oben = 1\n",
    "\n",
    "\n",
    "sy.init_printing()\n",
    "F = f.integrate(x)\n",
    "y=1\n",
    "gleichung=[sy.Eq(y,F.subs(x, xmax) - F.subs(x,xmin))]\n",
    "sol=sy.solve(gleichung,a)\n",
    "a_val=sol[a]\n",
    "display(Math('f(x) = '+sy.latex(f)))\n",
    "f = f.subs(a, a_val)\n",
    "F = F.subs(a, a_val)\n",
    "print(f\"a = {a_val}\")\n",
    "display(Math('F(x) = '+sy.latex(F)))\n",
    "print(\"for easy copy: F(x) = \", F.args)\n",
    "\n",
    "display(Math(f'P({x_unten} ≤ X ≤ {x_oben}) = {(F.subs(x, x_oben) - F.subs(x, x_unten))*100}\\%'))\n",
    "mu = sy.integrate(f*x, (x, -sy.oo, sy.oo))\n",
    "variance = sy.integrate(f*(x-mu)**2,(x,xmin,xmax))\n",
    "print(f'expected value μ = {mu}')\n",
    "print(f'variance σ\\u00b2 = {variance}')\n",
    "print(f'standard deviation σ = {float(sy.sqrt(variance))}')"
   ]
  },
  {
   "cell_type": "code",
   "execution_count": null,
   "metadata": {},
   "outputs": [],
   "source": [
    "import numpy as np\n",
    "import sympy as sy\n",
    "from sympy.abc import x, a\n",
    "from IPython.display import display, Math\n",
    "xmin = -1\n",
    "xmax = 4\n",
    "\n",
    "F = sy.Piecewise((0, x<xmin), (a*(-x**3/3+3*x**2/2+4*x+13/6), (x>=xmin) & (x<=xmax)), (1, x>xmax)) # define function, lower and upper limit; 0 else\n",
    "\n",
    "#P(X >= x_greater)\n",
    "x_greater = 1\n",
    "\n",
    "#P(x_unten <= X <= x_oben)\n",
    "x_unten = -2\n",
    "x_oben = 1\n",
    "\n",
    "\n",
    "sy.init_printing()\n",
    "y=1\n",
    "gleichung=[sy.Eq(y, F.subs(x, xmax) - F.subs(x,xmin))]\n",
    "sol=sy.solve(gleichung,a)\n",
    "a_val=sol[a]\n",
    "display(Math('Fₓ(x) = '+sy.latex(F)))\n",
    "F = F.subs(a, a_val)\n",
    "print(f\"a = {a_val}\")\n",
    "\n",
    "display(Math(f'P(X ≥ {x_greater}) = {1-F.subs(x, x_greater)}'))\n",
    "display(Math(f'P({x_unten} ≤ X ≤ {x_oben}) = {F.subs(x, x_oben) - F.subs(x, x_unten)}'))\n",
    "mu = sy.integrate(F.diff()*x, (x, -sy.oo, sy.oo))\n",
    "print(f'expected value μ = {mu}')"
   ]
  }
 ],
 "metadata": {
  "kernelspec": {
   "display_name": "Python 3",
   "language": "python",
   "name": "python3"
  },
  "language_info": {
   "codemirror_mode": {
    "name": "ipython",
    "version": 3
   },
   "file_extension": ".py",
   "mimetype": "text/x-python",
   "name": "python",
   "nbconvert_exporter": "python",
   "pygments_lexer": "ipython3",
   "version": "3.11.0 (v3.11.0:deaf509e8f, Oct 24 2022, 14:43:23) [Clang 13.0.0 (clang-1300.0.29.30)]"
  },
  "orig_nbformat": 4,
  "vscode": {
   "interpreter": {
    "hash": "aee8b7b246df8f9039afb4144a1f6fd8d2ca17a180786b69acc140d282b71a49"
   }
  }
 },
 "nbformat": 4,
 "nbformat_minor": 2
}
