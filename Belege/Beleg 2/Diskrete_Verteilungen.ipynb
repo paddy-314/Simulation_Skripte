{
 "cells": [
  {
   "cell_type": "code",
   "execution_count": null,
   "metadata": {},
   "outputs": [],
   "source": [
    "from fractions import Fraction\n",
    "import numpy as np\n",
    "\n",
    "xi = [0, 1, 6, 11]\n",
    "fxi = [Fraction(4, 5), Fraction(1, 10), Fraction(1, 25), Fraction(3, 50)]\n",
    "X = 6.5\n",
    "\n",
    "\n",
    "print(f\"xi{'':4}\", end=\"\")\n",
    "for i in range(len(xi)):\n",
    "    print(f'| {str(xi[i]):9}', end=\"\")\n",
    "\n",
    "print(f\"\\nfxi{'':3}\", end=\"\")\n",
    "for i in range(len(fxi)):\n",
    "    print(f'| {str(Fraction(fxi[i])):9}', end=\"\")\n",
    "\n",
    "variance = np.average((xi- np.average(xi, weights=np.array(fxi).astype(float)))**2, weights=np.array(fxi).astype(float))\n",
    "\n",
    "FX = 0\n",
    "for i in range(len(fxi)):\n",
    "    if X >= xi[i]:\n",
    "        FX += fxi[i]\n",
    "    else: break\n",
    "\n",
    "print(f\"\\n\\nF({X}) = {FX} = {float(FX)}\")\n",
    "print(f'expected value μ = {np.average(xi, weights=fxi)} = {float(np.average(xi, weights=fxi))}')\n",
    "print(f'variance σ\\u00b2 = {variance}')\n",
    "print(f'standard deviation σ = {np.sqrt(variance)}')"
   ]
  }
 ],
 "metadata": {
  "kernelspec": {
   "display_name": "Python 3",
   "language": "python",
   "name": "python3"
  },
  "language_info": {
   "codemirror_mode": {
    "name": "ipython",
    "version": 3
   },
   "file_extension": ".py",
   "mimetype": "text/x-python",
   "name": "python",
   "nbconvert_exporter": "python",
   "pygments_lexer": "ipython3",
   "version": "3.11.0"
  },
  "orig_nbformat": 4,
  "vscode": {
   "interpreter": {
    "hash": "aee8b7b246df8f9039afb4144a1f6fd8d2ca17a180786b69acc140d282b71a49"
   }
  }
 },
 "nbformat": 4,
 "nbformat_minor": 2
}
