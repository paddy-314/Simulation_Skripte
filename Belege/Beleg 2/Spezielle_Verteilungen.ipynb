{
 "cells": [
  {
   "cell_type": "code",
   "execution_count": null,
   "metadata": {},
   "outputs": [],
   "source": [
    "from sympy.stats import Binomial, P, E\n",
    "from IPython.display import display, Math\n",
    "\n",
    "n=9\n",
    "p=3/8\n",
    "    \n",
    "X = Binomial('X', n, p)\n",
    "\n",
    "##### input here ↓ #####\n",
    "display(Math(f'{P(X<2) *100}\\%'))\n",
    "display(Math(f'{P(X>2) *100}\\%'))\n",
    "print(f'expected value μₓ = {E(X)}')"
   ]
  },
  {
   "cell_type": "code",
   "execution_count": 7,
   "metadata": {},
   "outputs": [
    {
     "data": {
      "text/latex": [
       "$\\displaystyle 0.040427681994512805$"
      ],
      "text/plain": [
       "<IPython.core.display.Math object>"
      ]
     },
     "metadata": {},
     "output_type": "display_data"
    },
    {
     "data": {
      "text/latex": [
       "$\\displaystyle 0.5595067149347875$"
      ],
      "text/plain": [
       "<IPython.core.display.Math object>"
      ]
     },
     "metadata": {},
     "output_type": "display_data"
    }
   ],
   "source": [
    "from sympy.stats import Poisson, P\n",
    "from IPython.display import display, Math\n",
    "\n",
    "n = 5\n",
    "p = 1/365\n",
    "\n",
    "if n*p <10 and n/p >1500: # assumption only if n*p <10 and n/p >1500\n",
    "    lamd = n*p \n",
    "else: # Condition n*p<10 and n/p>1500 not met. You need to set lamda explicit\n",
    "    lamd = n\n",
    "\n",
    "X = Poisson('X', lamd)\n",
    "\n",
    "############# input here ↓ #############\n",
    "display(Math(f'{float(P(X <= 1))}'))\n",
    "display(Math(f'{float(P(X > 4))}'))"
   ]
  },
  {
   "cell_type": "code",
   "execution_count": 16,
   "metadata": {},
   "outputs": [
    {
     "name": "stdout",
     "output_type": "stream",
     "text": [
      "walking 2x east: 7.74144000000000%\n",
      "walking north only: 0.163840000000000%\n",
      "expected to walk east 4.20000000000000 times\n"
     ]
    }
   ],
   "source": [
    "from sympy.stats import Binomial, P, E, density\n",
    "from IPython.display import display, Math\n",
    "\n",
    "# 3 possible ways to get to the BBQ, out of n times, 2x east must be included\n",
    "\n",
    "n= 7 \n",
    "p= 12/20 #prob to go east\n",
    "\n",
    "\n",
    "X = Binomial('X', n, p)\n",
    "print(f'walking 2x east: {density(X)(2)*100}%')\n",
    "print(f'walking north only: {density(X)(0)*100}%')\n",
    "print(f'expected to walk east {E(X)} times')"
   ]
  },
  {
   "cell_type": "code",
   "execution_count": null,
   "metadata": {},
   "outputs": [],
   "source": [
    "from sympy.stats import P, Normal\n",
    "from sympy.abc import k\n",
    "from sympy import sqrt, erf, solve\n",
    "from IPython.display import display, Math\n",
    "\n",
    "mu = 3.25\n",
    "sigma = 0.70\n",
    "\n",
    "X = Normal('X', mu, sigma)\n",
    "\n",
    "######### input here ↓ #########\n",
    "print(f'{float(P(X <= 3.36))*100}%')\n",
    "print(f'{float(P(X >= 3.93))*100}%')\n",
    "print(f'{float(P(X <= 4.96) - P(X <= 2.68))*100}%')\n",
    "\n",
    "k = solve(erf(k/(sigma*sqrt(2))) - 0.80, k)\n",
    "print(k)"
   ]
  },
  {
   "cell_type": "code",
   "execution_count": null,
   "metadata": {},
   "outputs": [],
   "source": [
    "from sympy.stats import P, Exponential\n",
    "from IPython.display import display, Math\n",
    "\n",
    "expected_value = 7 # average waiting time\n",
    "\n",
    "lamd = 1/expected_value\n",
    "X = Exponential('X', lamd)\n",
    "\n",
    "print(P(X >= 5))\n",
    "print(P(X <= 7))"
   ]
  }
 ],
 "metadata": {
  "kernelspec": {
   "display_name": "Python 3",
   "language": "python",
   "name": "python3"
  },
  "language_info": {
   "codemirror_mode": {
    "name": "ipython",
    "version": 3
   },
   "file_extension": ".py",
   "mimetype": "text/x-python",
   "name": "python",
   "nbconvert_exporter": "python",
   "pygments_lexer": "ipython3",
   "version": "3.11.0"
  },
  "orig_nbformat": 4,
  "vscode": {
   "interpreter": {
    "hash": "aee8b7b246df8f9039afb4144a1f6fd8d2ca17a180786b69acc140d282b71a49"
   }
  }
 },
 "nbformat": 4,
 "nbformat_minor": 2
}
