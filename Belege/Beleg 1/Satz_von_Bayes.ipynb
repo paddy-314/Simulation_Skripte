{
 "cells": [
  {
   "cell_type": "code",
   "execution_count": null,
   "metadata": {},
   "outputs": [],
   "source": [
    "bk=0.82\n",
    "ek=0.22\n",
    "gk=0.09\n",
    "\n",
    "b=0.018\n",
    "e=0.105\n",
    "g=1-b-e\n",
    "print(\"y=\",g)\n",
    "print(\"x=\",1-bk)\n",
    "\n",
    "pk=b*bk+e*ek+g*gk\n",
    "pb=b\n",
    "pkb=bk\n",
    "pbk=(pkb*pb)/pk\n",
    "print(\"P(B|K)=\",pbk)\n",
    "\n",
    "pe=e\n",
    "pke=ek\n",
    "pek=(pke*pe)/pk\n",
    "print(\"P(E|K)=\",pek)\n",
    "\n",
    "pg=g\n",
    "pkg=gk\n",
    "pgk=(pkg*pg)/pk\n",
    "print(\"P(G|K)=\",pgk)"
   ]
  },
  {
   "cell_type": "code",
   "execution_count": null,
   "metadata": {},
   "outputs": [],
   "source": [
    "p1=936\n",
    "p2=1333\n",
    "p3=1006\n",
    "p4=1420\n",
    "\n",
    "r1=0.06\n",
    "r2=0.06\n",
    "r3=0.05\n",
    "r4=0.025\n",
    "\n",
    "a_ges=p1*r1+p2*r2+p3*r3+p4*r4\n",
    "\n",
    "print(\"Ausschuss je Tag=\",a_ges)\n",
    "\n",
    "a1=p1*r1\n",
    "a2=p2*r2\n",
    "a3=p3*r3\n",
    "a4=p4*r4\n",
    "\n",
    "print(\"P1 liegt bei=\",a1/a_ges)\n",
    "print(\"P2 liegt bei=\",a2/a_ges)\n",
    "print(\"P3 liegt bei=\",a3/a_ges)\n",
    "print(\"P4 liegt bei=\",a4/a_ges)"
   ]
  }
 ],
 "metadata": {
  "kernelspec": {
   "display_name": "Python 3",
   "language": "python",
   "name": "python3"
  },
  "language_info": {
   "codemirror_mode": {
    "name": "ipython",
    "version": 3
   },
   "file_extension": ".py",
   "mimetype": "text/x-python",
   "name": "python",
   "nbconvert_exporter": "python",
   "pygments_lexer": "ipython3",
   "version": "3.9.6 (default, Oct 18 2022, 12:41:40) \n[Clang 14.0.0 (clang-1400.0.29.202)]"
  },
  "orig_nbformat": 4,
  "vscode": {
   "interpreter": {
    "hash": "31f2aee4e71d21fbe5cf8b01ff0e069b9275f58929596ceb00d14d90e3e16cd6"
   }
  }
 },
 "nbformat": 4,
 "nbformat_minor": 2
}
