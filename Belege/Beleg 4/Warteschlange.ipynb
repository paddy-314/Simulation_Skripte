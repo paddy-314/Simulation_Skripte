{
 "cells": [
  {
   "cell_type": "code",
   "execution_count": null,
   "metadata": {},
   "outputs": [],
   "source": [
    "from sympy import floor\n",
    "\n",
    "quantile = 0.55\n",
    "delta_t = [16,4,16,4,21,15,26,10,10,1]\n",
    "\n",
    "delta_t.sort()\n",
    "mu = sum(delta_t)/len(delta_t)\n",
    "\n",
    "\n",
    "print(f'expected value μ = {mu}')\n",
    "print(f'{quantile}-quantile = {delta_t[floor(quantile*len(delta_t))]}')\n",
    "print(f'estimated value 𝜆̂ = {1/mu}')"
   ]
  }
 ],
 "metadata": {
  "kernelspec": {
   "display_name": "Python 3",
   "language": "python",
   "name": "python3"
  },
  "language_info": {
   "codemirror_mode": {
    "name": "ipython",
    "version": 3
   },
   "file_extension": ".py",
   "mimetype": "text/x-python",
   "name": "python",
   "nbconvert_exporter": "python",
   "pygments_lexer": "ipython3",
   "version": "3.11.0"
  },
  "orig_nbformat": 4,
  "vscode": {
   "interpreter": {
    "hash": "aee8b7b246df8f9039afb4144a1f6fd8d2ca17a180786b69acc140d282b71a49"
   }
  }
 },
 "nbformat": 4,
 "nbformat_minor": 2
}
