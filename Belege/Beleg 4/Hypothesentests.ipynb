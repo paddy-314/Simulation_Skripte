{
 "cells": [
  {
   "cell_type": "code",
   "execution_count": null,
   "metadata": {},
   "outputs": [],
   "source": [
    "from scipy import stats\n",
    "from numpy import sqrt\n",
    "\n",
    "mu_0 = 140\n",
    "n = 13\n",
    "x_mean = 143.5\n",
    "s = 3.9\n",
    "alpha = 0.01\n",
    "\n",
    "quantile = ((1-alpha+1)/2)\n",
    "c = stats.t.ppf(quantile, n-1)\n",
    "u = (x_mean - mu_0)/(s/sqrt(n))\n",
    "\n",
    "\n",
    "print(f'c = {c} is the {quantile}-quantile of the Student\\'s t-distribution with f = {n-1} degrees')\n",
    "print(f'test value 𝑢̂ = {u}')\n",
    "print(f\"null hypothesis H₀ is {'NOT rejected' if abs(u) <= abs(c) else 'rejected'}\")"
   ]
  },
  {
   "cell_type": "code",
   "execution_count": null,
   "metadata": {},
   "outputs": [],
   "source": [
    "from scipy import stats\n",
    "from numpy import sqrt\n",
    "\n",
    "mu_0 = 8.4\n",
    "n = 11\n",
    "x_mean = 8.2\n",
    "s = 0.8\n",
    "alpha = 0.01\n",
    "\n",
    "quantile = alpha\n",
    "c = stats.t.ppf(quantile, n-1)\n",
    "t = (x_mean - mu_0)/(s/sqrt(n))\n",
    "\n",
    "\n",
    "print(f'c = {c} is the {quantile}-quantile of the Student\\'s t-distribution with f = {n-1} degrees')\n",
    "print(f'test value 𝑡̂  = {t}')\n",
    "print(f\"null hypothesis H₀ is {'NOT rejected' if abs(t) <= abs(c) else 'rejected'}\")"
   ]
  },
  {
   "cell_type": "code",
   "execution_count": 1,
   "metadata": {},
   "outputs": [
    {
     "name": "stdout",
     "output_type": "stream",
     "text": [
      "estimated value 𝜆̂ = 0.018518518518518517\n",
      "class [0,15): pᵢ = 0.24253487160303355\n",
      "class [15,30): equation = 1.1520621974844634\n",
      "class [120,oo): nᵢˣ = 35.219607547116155\n",
      "test value: z = 7.448804805265782\n",
      "c = 18.475306906582357 is the 0.990000-quantile of the 𝜒²-distribution with f = 7 degrees\n",
      "the sample seems to be exponentially distributed with a 1.0% error rate\n"
     ]
    },
    {
     "data": {
      "application/vnd.plotly.v1+json": {
       "config": {
        "plotlyServerURL": "https://plot.ly"
       },
       "data": [
        {
         "cells": {
          "align": "left",
          "values": [
           [
            "[0,15)",
            "[15,30)",
            "[30,45)",
            "[45,60)",
            "[60,75)",
            "[75,90)",
            "[90,105)",
            "[105,120)",
            "[120,oo)",
            "sum"
           ],
           [
            "64",
            "68",
            "44",
            "35",
            "21",
            "22",
            "15",
            "12",
            "44",
            "325"
           ],
           [
            "0.24253487160303355",
            "0.1837117076595337",
            "0.13915521223035443",
            "0.10540522069917269",
            "0.07984077903060938",
            "0.06047660593973436",
            "0.045808920083153626",
            "0.03469865953251239",
            "0.10836802322189587",
            "1.0"
           ],
           [
            "78.8238332709859",
            "59.70630498934845",
            "45.22544397486519",
            "34.25669672723112",
            "25.948253184948047",
            "19.654896930413667",
            "14.887899027024929",
            "11.277064348066526",
            "35.219607547116155",
            "325.0"
           ],
           [
            "2.7878120579410393",
            "1.1520621974844634",
            "0.033205045734166966",
            "0.01612822624750429",
            "0.9436168750099823",
            "0.27980347220612445",
            "0.0008440833806802636",
            "0.04634503632375601",
            "2.188987810938066",
            "7.448804805265782"
           ]
          ]
         },
         "header": {
          "values": [
           "class",
           "nᵢ",
           "pᵢ",
           "nᵢˣ",
           "equation"
          ]
         },
         "type": "table"
        }
       ],
       "layout": {
        "template": {
         "data": {
          "bar": [
           {
            "error_x": {
             "color": "#2a3f5f"
            },
            "error_y": {
             "color": "#2a3f5f"
            },
            "marker": {
             "line": {
              "color": "#E5ECF6",
              "width": 0.5
             },
             "pattern": {
              "fillmode": "overlay",
              "size": 10,
              "solidity": 0.2
             }
            },
            "type": "bar"
           }
          ],
          "barpolar": [
           {
            "marker": {
             "line": {
              "color": "#E5ECF6",
              "width": 0.5
             },
             "pattern": {
              "fillmode": "overlay",
              "size": 10,
              "solidity": 0.2
             }
            },
            "type": "barpolar"
           }
          ],
          "carpet": [
           {
            "aaxis": {
             "endlinecolor": "#2a3f5f",
             "gridcolor": "white",
             "linecolor": "white",
             "minorgridcolor": "white",
             "startlinecolor": "#2a3f5f"
            },
            "baxis": {
             "endlinecolor": "#2a3f5f",
             "gridcolor": "white",
             "linecolor": "white",
             "minorgridcolor": "white",
             "startlinecolor": "#2a3f5f"
            },
            "type": "carpet"
           }
          ],
          "choropleth": [
           {
            "colorbar": {
             "outlinewidth": 0,
             "ticks": ""
            },
            "type": "choropleth"
           }
          ],
          "contour": [
           {
            "colorbar": {
             "outlinewidth": 0,
             "ticks": ""
            },
            "colorscale": [
             [
              0,
              "#0d0887"
             ],
             [
              0.1111111111111111,
              "#46039f"
             ],
             [
              0.2222222222222222,
              "#7201a8"
             ],
             [
              0.3333333333333333,
              "#9c179e"
             ],
             [
              0.4444444444444444,
              "#bd3786"
             ],
             [
              0.5555555555555556,
              "#d8576b"
             ],
             [
              0.6666666666666666,
              "#ed7953"
             ],
             [
              0.7777777777777778,
              "#fb9f3a"
             ],
             [
              0.8888888888888888,
              "#fdca26"
             ],
             [
              1,
              "#f0f921"
             ]
            ],
            "type": "contour"
           }
          ],
          "contourcarpet": [
           {
            "colorbar": {
             "outlinewidth": 0,
             "ticks": ""
            },
            "type": "contourcarpet"
           }
          ],
          "heatmap": [
           {
            "colorbar": {
             "outlinewidth": 0,
             "ticks": ""
            },
            "colorscale": [
             [
              0,
              "#0d0887"
             ],
             [
              0.1111111111111111,
              "#46039f"
             ],
             [
              0.2222222222222222,
              "#7201a8"
             ],
             [
              0.3333333333333333,
              "#9c179e"
             ],
             [
              0.4444444444444444,
              "#bd3786"
             ],
             [
              0.5555555555555556,
              "#d8576b"
             ],
             [
              0.6666666666666666,
              "#ed7953"
             ],
             [
              0.7777777777777778,
              "#fb9f3a"
             ],
             [
              0.8888888888888888,
              "#fdca26"
             ],
             [
              1,
              "#f0f921"
             ]
            ],
            "type": "heatmap"
           }
          ],
          "heatmapgl": [
           {
            "colorbar": {
             "outlinewidth": 0,
             "ticks": ""
            },
            "colorscale": [
             [
              0,
              "#0d0887"
             ],
             [
              0.1111111111111111,
              "#46039f"
             ],
             [
              0.2222222222222222,
              "#7201a8"
             ],
             [
              0.3333333333333333,
              "#9c179e"
             ],
             [
              0.4444444444444444,
              "#bd3786"
             ],
             [
              0.5555555555555556,
              "#d8576b"
             ],
             [
              0.6666666666666666,
              "#ed7953"
             ],
             [
              0.7777777777777778,
              "#fb9f3a"
             ],
             [
              0.8888888888888888,
              "#fdca26"
             ],
             [
              1,
              "#f0f921"
             ]
            ],
            "type": "heatmapgl"
           }
          ],
          "histogram": [
           {
            "marker": {
             "pattern": {
              "fillmode": "overlay",
              "size": 10,
              "solidity": 0.2
             }
            },
            "type": "histogram"
           }
          ],
          "histogram2d": [
           {
            "colorbar": {
             "outlinewidth": 0,
             "ticks": ""
            },
            "colorscale": [
             [
              0,
              "#0d0887"
             ],
             [
              0.1111111111111111,
              "#46039f"
             ],
             [
              0.2222222222222222,
              "#7201a8"
             ],
             [
              0.3333333333333333,
              "#9c179e"
             ],
             [
              0.4444444444444444,
              "#bd3786"
             ],
             [
              0.5555555555555556,
              "#d8576b"
             ],
             [
              0.6666666666666666,
              "#ed7953"
             ],
             [
              0.7777777777777778,
              "#fb9f3a"
             ],
             [
              0.8888888888888888,
              "#fdca26"
             ],
             [
              1,
              "#f0f921"
             ]
            ],
            "type": "histogram2d"
           }
          ],
          "histogram2dcontour": [
           {
            "colorbar": {
             "outlinewidth": 0,
             "ticks": ""
            },
            "colorscale": [
             [
              0,
              "#0d0887"
             ],
             [
              0.1111111111111111,
              "#46039f"
             ],
             [
              0.2222222222222222,
              "#7201a8"
             ],
             [
              0.3333333333333333,
              "#9c179e"
             ],
             [
              0.4444444444444444,
              "#bd3786"
             ],
             [
              0.5555555555555556,
              "#d8576b"
             ],
             [
              0.6666666666666666,
              "#ed7953"
             ],
             [
              0.7777777777777778,
              "#fb9f3a"
             ],
             [
              0.8888888888888888,
              "#fdca26"
             ],
             [
              1,
              "#f0f921"
             ]
            ],
            "type": "histogram2dcontour"
           }
          ],
          "mesh3d": [
           {
            "colorbar": {
             "outlinewidth": 0,
             "ticks": ""
            },
            "type": "mesh3d"
           }
          ],
          "parcoords": [
           {
            "line": {
             "colorbar": {
              "outlinewidth": 0,
              "ticks": ""
             }
            },
            "type": "parcoords"
           }
          ],
          "pie": [
           {
            "automargin": true,
            "type": "pie"
           }
          ],
          "scatter": [
           {
            "fillpattern": {
             "fillmode": "overlay",
             "size": 10,
             "solidity": 0.2
            },
            "type": "scatter"
           }
          ],
          "scatter3d": [
           {
            "line": {
             "colorbar": {
              "outlinewidth": 0,
              "ticks": ""
             }
            },
            "marker": {
             "colorbar": {
              "outlinewidth": 0,
              "ticks": ""
             }
            },
            "type": "scatter3d"
           }
          ],
          "scattercarpet": [
           {
            "marker": {
             "colorbar": {
              "outlinewidth": 0,
              "ticks": ""
             }
            },
            "type": "scattercarpet"
           }
          ],
          "scattergeo": [
           {
            "marker": {
             "colorbar": {
              "outlinewidth": 0,
              "ticks": ""
             }
            },
            "type": "scattergeo"
           }
          ],
          "scattergl": [
           {
            "marker": {
             "colorbar": {
              "outlinewidth": 0,
              "ticks": ""
             }
            },
            "type": "scattergl"
           }
          ],
          "scattermapbox": [
           {
            "marker": {
             "colorbar": {
              "outlinewidth": 0,
              "ticks": ""
             }
            },
            "type": "scattermapbox"
           }
          ],
          "scatterpolar": [
           {
            "marker": {
             "colorbar": {
              "outlinewidth": 0,
              "ticks": ""
             }
            },
            "type": "scatterpolar"
           }
          ],
          "scatterpolargl": [
           {
            "marker": {
             "colorbar": {
              "outlinewidth": 0,
              "ticks": ""
             }
            },
            "type": "scatterpolargl"
           }
          ],
          "scatterternary": [
           {
            "marker": {
             "colorbar": {
              "outlinewidth": 0,
              "ticks": ""
             }
            },
            "type": "scatterternary"
           }
          ],
          "surface": [
           {
            "colorbar": {
             "outlinewidth": 0,
             "ticks": ""
            },
            "colorscale": [
             [
              0,
              "#0d0887"
             ],
             [
              0.1111111111111111,
              "#46039f"
             ],
             [
              0.2222222222222222,
              "#7201a8"
             ],
             [
              0.3333333333333333,
              "#9c179e"
             ],
             [
              0.4444444444444444,
              "#bd3786"
             ],
             [
              0.5555555555555556,
              "#d8576b"
             ],
             [
              0.6666666666666666,
              "#ed7953"
             ],
             [
              0.7777777777777778,
              "#fb9f3a"
             ],
             [
              0.8888888888888888,
              "#fdca26"
             ],
             [
              1,
              "#f0f921"
             ]
            ],
            "type": "surface"
           }
          ],
          "table": [
           {
            "cells": {
             "fill": {
              "color": "#EBF0F8"
             },
             "line": {
              "color": "white"
             }
            },
            "header": {
             "fill": {
              "color": "#C8D4E3"
             },
             "line": {
              "color": "white"
             }
            },
            "type": "table"
           }
          ]
         },
         "layout": {
          "annotationdefaults": {
           "arrowcolor": "#2a3f5f",
           "arrowhead": 0,
           "arrowwidth": 1
          },
          "autotypenumbers": "strict",
          "coloraxis": {
           "colorbar": {
            "outlinewidth": 0,
            "ticks": ""
           }
          },
          "colorscale": {
           "diverging": [
            [
             0,
             "#8e0152"
            ],
            [
             0.1,
             "#c51b7d"
            ],
            [
             0.2,
             "#de77ae"
            ],
            [
             0.3,
             "#f1b6da"
            ],
            [
             0.4,
             "#fde0ef"
            ],
            [
             0.5,
             "#f7f7f7"
            ],
            [
             0.6,
             "#e6f5d0"
            ],
            [
             0.7,
             "#b8e186"
            ],
            [
             0.8,
             "#7fbc41"
            ],
            [
             0.9,
             "#4d9221"
            ],
            [
             1,
             "#276419"
            ]
           ],
           "sequential": [
            [
             0,
             "#0d0887"
            ],
            [
             0.1111111111111111,
             "#46039f"
            ],
            [
             0.2222222222222222,
             "#7201a8"
            ],
            [
             0.3333333333333333,
             "#9c179e"
            ],
            [
             0.4444444444444444,
             "#bd3786"
            ],
            [
             0.5555555555555556,
             "#d8576b"
            ],
            [
             0.6666666666666666,
             "#ed7953"
            ],
            [
             0.7777777777777778,
             "#fb9f3a"
            ],
            [
             0.8888888888888888,
             "#fdca26"
            ],
            [
             1,
             "#f0f921"
            ]
           ],
           "sequentialminus": [
            [
             0,
             "#0d0887"
            ],
            [
             0.1111111111111111,
             "#46039f"
            ],
            [
             0.2222222222222222,
             "#7201a8"
            ],
            [
             0.3333333333333333,
             "#9c179e"
            ],
            [
             0.4444444444444444,
             "#bd3786"
            ],
            [
             0.5555555555555556,
             "#d8576b"
            ],
            [
             0.6666666666666666,
             "#ed7953"
            ],
            [
             0.7777777777777778,
             "#fb9f3a"
            ],
            [
             0.8888888888888888,
             "#fdca26"
            ],
            [
             1,
             "#f0f921"
            ]
           ]
          },
          "colorway": [
           "#636efa",
           "#EF553B",
           "#00cc96",
           "#ab63fa",
           "#FFA15A",
           "#19d3f3",
           "#FF6692",
           "#B6E880",
           "#FF97FF",
           "#FECB52"
          ],
          "font": {
           "color": "#2a3f5f"
          },
          "geo": {
           "bgcolor": "white",
           "lakecolor": "white",
           "landcolor": "#E5ECF6",
           "showlakes": true,
           "showland": true,
           "subunitcolor": "white"
          },
          "hoverlabel": {
           "align": "left"
          },
          "hovermode": "closest",
          "mapbox": {
           "style": "light"
          },
          "paper_bgcolor": "white",
          "plot_bgcolor": "#E5ECF6",
          "polar": {
           "angularaxis": {
            "gridcolor": "white",
            "linecolor": "white",
            "ticks": ""
           },
           "bgcolor": "#E5ECF6",
           "radialaxis": {
            "gridcolor": "white",
            "linecolor": "white",
            "ticks": ""
           }
          },
          "scene": {
           "xaxis": {
            "backgroundcolor": "#E5ECF6",
            "gridcolor": "white",
            "gridwidth": 2,
            "linecolor": "white",
            "showbackground": true,
            "ticks": "",
            "zerolinecolor": "white"
           },
           "yaxis": {
            "backgroundcolor": "#E5ECF6",
            "gridcolor": "white",
            "gridwidth": 2,
            "linecolor": "white",
            "showbackground": true,
            "ticks": "",
            "zerolinecolor": "white"
           },
           "zaxis": {
            "backgroundcolor": "#E5ECF6",
            "gridcolor": "white",
            "gridwidth": 2,
            "linecolor": "white",
            "showbackground": true,
            "ticks": "",
            "zerolinecolor": "white"
           }
          },
          "shapedefaults": {
           "line": {
            "color": "#2a3f5f"
           }
          },
          "ternary": {
           "aaxis": {
            "gridcolor": "white",
            "linecolor": "white",
            "ticks": ""
           },
           "baxis": {
            "gridcolor": "white",
            "linecolor": "white",
            "ticks": ""
           },
           "bgcolor": "#E5ECF6",
           "caxis": {
            "gridcolor": "white",
            "linecolor": "white",
            "ticks": ""
           }
          },
          "title": {
           "x": 0.05
          },
          "xaxis": {
           "automargin": true,
           "gridcolor": "white",
           "linecolor": "white",
           "ticks": "",
           "title": {
            "standoff": 15
           },
           "zerolinecolor": "white",
           "zerolinewidth": 2
          },
          "yaxis": {
           "automargin": true,
           "gridcolor": "white",
           "linecolor": "white",
           "ticks": "",
           "title": {
            "standoff": 15
           },
           "zerolinecolor": "white",
           "zerolinewidth": 2
          }
         }
        }
       }
      }
     },
     "metadata": {},
     "output_type": "display_data"
    }
   ],
   "source": [
    "from sympy import floor, oo\n",
    "from sympy.stats import P, Exponential\n",
    "from scipy import stats\n",
    "import plotly.graph_objects as go\n",
    "from numpy import transpose, sqrt\n",
    "\n",
    "classes = [[0,15], [15,30], [30,45], [45,60], [60,75], [75,90], [90,105], [105,120], [120,oo]]\n",
    "delta_t_amounts = [64,68,44,35,21,22,15,12,44]\n",
    "n = 325\n",
    "t_mean = 54\n",
    "alpha = 0.01\n",
    "\n",
    "class sample:\n",
    "    n = n\n",
    "    lamd = 1/t_mean\n",
    "\n",
    "    def __init__(self, lowerLimit_closed, upperLimit_open, nᵢ):\n",
    "        self.lowerLimit = lowerLimit_closed\n",
    "        self.upperLimit = upperLimit_open\n",
    "        self.nᵢ = nᵢ\n",
    "        self.X = Exponential('X', sample.lamd)\n",
    "        self.pᵢ = float(P(self.X <= self.upperLimit) - P(self.X <= self.lowerLimit))\n",
    "        self.nᵢˣ = sample.n * self.pᵢ\n",
    "        self.equation = (self.nᵢ - self.nᵢˣ)**2/self.nᵢˣ\n",
    "\n",
    "def sum_col(name, table_data):\n",
    "    return sum([table_data[i][name] for i, item in enumerate(table_data)])\n",
    "\n",
    "if n != sum(delta_t_amounts):\n",
    "    raise IOError(\"delta_t_amounts and n are not equal, possibly wrong input\")\n",
    "\n",
    "s = [sample(delta_t_class[0], delta_t_class[1], delta_t_amounts[i]) for i, delta_t_class in enumerate(classes)]\n",
    "\n",
    "table_data = []\n",
    "for i, _sample in enumerate(s):\n",
    "    samples = {}\n",
    "    samples['class'] = f\"[{_sample.lowerLimit},{_sample.upperLimit})\"\n",
    "    samples['nᵢ'] = _sample.nᵢ\n",
    "    samples['pᵢ'] = _sample.pᵢ\n",
    "    samples['nᵢˣ'] = _sample.nᵢˣ\n",
    "    samples['equation'] = _sample.equation\n",
    "    table_data.append(samples)\n",
    "table_data.append({'class': 'sum', 'nᵢ': sum_col('nᵢ', table_data), 'pᵢ': sum_col('pᵢ', table_data), 'nᵢˣ': sum_col('nᵢˣ', table_data), 'equation': sum_col('equation', table_data)})\n",
    "\n",
    "f = len(delta_t_amounts) -1\n",
    "quantile = 1-alpha\n",
    "degrees = f-1 # 1 assumption -> degrees -1\n",
    "c = stats.chi2.ppf(quantile, degrees)\n",
    "z = table_data[-1]['equation']\n",
    "\n",
    "print(f'estimated value 𝜆̂ = {1/t_mean}')\n",
    "print(f\"class {table_data[0]['class']}: pᵢ = {table_data[0]['pᵢ']}\")\n",
    "print(f\"class {table_data[1]['class']}: equation = {table_data[1]['equation']}\")\n",
    "print(f\"class {table_data[-2]['class']}: nᵢˣ = {table_data[-2]['nᵢˣ']}\")\n",
    "print(f\"test value: z = {z}\")\n",
    "print(f'c = {c} is the {quantile:1f}-quantile of the 𝜒²-distribution with f = {degrees} degrees')\n",
    "print(f\"the sample {'seems' if z < c else 'does not seem'} to be exponentially distributed with a {alpha*100}% error rate\")\n",
    "\n",
    "fig = go.Figure(data=[go.Table(header=dict(values=list(samples.keys())),\n",
    "                 cells=dict(values=transpose([list(item.values()) for item in table_data]), align=\"left\"))\n",
    "                    ])\n",
    "fig.show()"
   ]
  },
  {
   "cell_type": "code",
   "execution_count": null,
   "metadata": {},
   "outputs": [],
   "source": [
    "import numpy as np\n",
    "import scipy.stats\n",
    "\n",
    "x=np.array([[0,1,0,1,0,1,1],\n",
    "            [1,1,1,0,1,1,1],\n",
    "            [1,1,1,1,1,1,1],\n",
    "            [1,1,0,1,1,1,1],\n",
    "            [1,1,1,1,1,1,1],\n",
    "            [1,0,1,1,1,1,1],\n",
    "            [1,1,1,1,1,1,1],\n",
    "            [0,1,1,1,1,0,0]])\n",
    "alpha = 0.05\n",
    "\n",
    "\n",
    "lastElement = -1 # set arbitrary value to ensure not to falsify the first value change\n",
    "r = 0\n",
    "for row in x: \n",
    "    for item in row:\n",
    "        if item != lastElement: r+=1\n",
    "        lastElement = item\n",
    "np.round(x, 0)\n",
    "n = x.shape[0] * x.shape[1]\n",
    "mu_R = (n+1)/2\n",
    "sigma_squared = (n-1)/4\n",
    "\n",
    "quantile = 1-(alpha/2)\n",
    "c = scipy.stats.norm.ppf(quantile)\n",
    "u = (r-mu_R)/np.sqrt(sigma_squared)\n",
    "\n",
    "print(f'number of runs = {r}')\n",
    "print(f\"we expect 𝜇ᵣ = {mu_R} runs with a variation of 𝜎²ᵣ = {sigma_squared}\")\n",
    "print(f'critical value {c}')\n",
    "print(f'test value: 𝑢̂ = {u}')\n",
    "print(f\"the sample {'seems' if abs(u) <= abs(c) else 'does NOT seem'} to be equally randomly distributed with a {alpha*100}% error rate\")"
   ]
  }
 ],
 "metadata": {
  "kernelspec": {
   "display_name": "Python 3",
   "language": "python",
   "name": "python3"
  },
  "language_info": {
   "codemirror_mode": {
    "name": "ipython",
    "version": 3
   },
   "file_extension": ".py",
   "mimetype": "text/x-python",
   "name": "python",
   "nbconvert_exporter": "python",
   "pygments_lexer": "ipython3",
   "version": "3.11.0"
  },
  "orig_nbformat": 4,
  "vscode": {
   "interpreter": {
    "hash": "aee8b7b246df8f9039afb4144a1f6fd8d2ca17a180786b69acc140d282b71a49"
   }
  }
 },
 "nbformat": 4,
 "nbformat_minor": 2
}
