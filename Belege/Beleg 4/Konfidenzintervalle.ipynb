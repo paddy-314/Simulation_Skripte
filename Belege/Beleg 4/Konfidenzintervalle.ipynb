{
 "cells": [
  {
   "cell_type": "code",
   "execution_count": null,
   "metadata": {},
   "outputs": [],
   "source": [
    "from scipy import stats\n",
    "from numpy import sqrt\n",
    "\n",
    "n = 15\n",
    "sample_mean = 79\n",
    "s_squared = 32\n",
    "gamma = 0.99\n",
    "\n",
    "estimated_mu = sample_mean\n",
    "quantile = ((gamma+1)/2)\n",
    "c = stats.t.ppf(quantile, n-1)\n",
    "tmp = sqrt(s_squared)/sqrt(n)*c\n",
    "\n",
    "print(f'c = {c} is the {quantile}-quantile of the Student\\'s t-distribution with f = {n-1} degrees')\n",
    "print(f'confindence interval: {estimated_mu-tmp} ≤ 𝜇 ≤ {estimated_mu+tmp}')"
   ]
  },
  {
   "cell_type": "code",
   "execution_count": null,
   "metadata": {},
   "outputs": [],
   "source": [
    "from scipy import stats\n",
    "from numpy import sqrt\n",
    "\n",
    "n = 10\n",
    "s_squared = 24\n",
    "gamma = 0.99\n",
    "\n",
    "quantile1 = ((1-gamma)/2)\n",
    "quantile2 = ((1+gamma)/2)\n",
    "c1 = stats.chi2.ppf(quantile1, n-1)\n",
    "c2 = stats.chi2.ppf(quantile2, n-1)\n",
    "tmp = (n-1)*s_squared\n",
    "\n",
    "print(f'c₁ = {c1} is the {quantile:1f}-quantile of the 𝜒²-distribution with f = {n-1} degrees')\n",
    "print(f'c₂ = {c2} is the {quantile:1f}-quantile of the 𝜒²-distribution with f = {n-1} degrees')\n",
    "print(f'confindence interval: {tmp/c2} ≤ 𝜎² ≤ {tmp/c1}')"
   ]
  },
  {
   "cell_type": "code",
   "execution_count": null,
   "metadata": {},
   "outputs": [],
   "source": [
    "from scipy import stats\n",
    "from numpy import sqrt\n",
    "\n",
    "xi = [192,176,180,155,162,174,185,189,166,173]\n",
    "gamma = 0.90\n",
    "\n",
    "\n",
    "n = len(xi)\n",
    "estimated_mu = sum(xi)/len(xi)\n",
    "s_squared = 1/(n-1)*sum(list(map(lambda x: (x - estimated_mu)**2, xi)))\n",
    "quantile1 = ((1-gamma)/2)\n",
    "quantile2 = ((1+gamma)/2)\n",
    "\n",
    "c0 = stats.t.ppf(quantile2, n-1)\n",
    "c1 = stats.chi2.ppf(quantile1, n-1)\n",
    "c2 = stats.chi2.ppf(quantile2, n-1)\n",
    "\n",
    "tmp0 = sqrt(s_squared)/sqrt(n)*c0\n",
    "tmp1 = (n-1)*s_squared\n",
    "\n",
    "print(f'x̄ = {estimated_mu}')\n",
    "print(f's² = {s_squared}')\n",
    "print(f'confindence interval: {estimated_mu-tmp0} ≤ 𝜇 ≤ {estimated_mu+tmp0}')\n",
    "print(f'confindence interval: {tmp1/c2} ≤ 𝜎² ≤ {tmp1/c1}')"
   ]
  }
 ],
 "metadata": {
  "kernelspec": {
   "display_name": "Python 3",
   "language": "python",
   "name": "python3"
  },
  "language_info": {
   "codemirror_mode": {
    "name": "ipython",
    "version": 3
   },
   "file_extension": ".py",
   "mimetype": "text/x-python",
   "name": "python",
   "nbconvert_exporter": "python",
   "pygments_lexer": "ipython3",
   "version": "3.11.0"
  },
  "orig_nbformat": 4,
  "vscode": {
   "interpreter": {
    "hash": "aee8b7b246df8f9039afb4144a1f6fd8d2ca17a180786b69acc140d282b71a49"
   }
  }
 },
 "nbformat": 4,
 "nbformat_minor": 2
}
