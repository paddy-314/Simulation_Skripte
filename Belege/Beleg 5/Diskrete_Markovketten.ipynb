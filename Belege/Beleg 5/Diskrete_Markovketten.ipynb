{
 "cells": [
  {
   "cell_type": "code",
   "execution_count": null,
   "metadata": {},
   "outputs": [],
   "source": [
    "from sympy import Matrix\n",
    "from sympy.stats import DiscreteMarkovChain\n",
    "from IPython.display import display\n",
    "\n",
    "p1 = 3/14\n",
    "p2 = 1/2\n",
    "p3 = 1/8\n",
    "\n",
    "n = 5\n",
    "i = 3\n",
    "j = 3\n",
    "\n",
    "P_mat =[[p1, 2*p1, 1-3*p1],\n",
    "        [0, p2, 1-p2],\n",
    "        [3*p3, 1-4*p3, p3]]\n",
    "\n",
    "\n",
    "Y = DiscreteMarkovChain(\"Y\", list(range(1, len(P_mat)+1)), Matrix(P_mat))\n",
    "display(Y)\n",
    "print(f'probability to get from i = {i} to j = {j} in n = {n} steps p{str(i) + str(j)}({n}) = {Matrix(Y.transition_probabilities ** n)[i-1,j-1]}')\n",
    "print(f'stationary distribution π = {Y.stationary_distribution()}')"
   ]
  },
  {
   "cell_type": "code",
   "execution_count": null,
   "metadata": {},
   "outputs": [],
   "source": [
    "import numpy as np\n",
    "from sympy import Matrix\n",
    "\n",
    "\n",
    "grades = np.array([5,7,11,3,2,0]) # grade (1,2,3,4,5,6)\n",
    "P_mat = Matrix([[0.640000000000000, 0.250000000000000, 0.0800000000000000, 0.0300000000000000, 0, 0], [0.220000000000000, 0.470000000000000, 0.210000000000000, 0.0800000000000000, 0.0200000000000000, 0], [0.0700000000000000, 0.250000000000000, 0.340000000000000, 0.240000000000000, 0.0800000000000000, 0.0200000000000000], [0.0400000000000000, 0.0700000000000000, 0.250000000000000, 0.310000000000000, 0.250000000000000, 0.0800000000000000], [0, 0.0400000000000000, 0.0700000000000000, 0.220000000000000, 0.470000000000000, 0.200000000000000], [0, 0, 0.0500000000000000, 0.07, 0.190000000000000, 0.690000000000000]])\n",
    "offset = 5 # how many years pi_0 already accounts for\n",
    "\n",
    "# absolute values: (how many students have grade x)\n",
    "res = [[3,6], [4,7]] # grade, year\n",
    "\n",
    "# probabilities for specific events\n",
    "g, y = 1, 10 # random student get grade g after y years (including offset)\n",
    "g1, g2, delta_y, = 3, 2, 9-7 # probability for switching from grade g1 to g2 in delta_y years\n",
    "\n",
    "\n",
    "for item in res:\n",
    "    print(f'at the end of year {item[1]}, {int(grades.dot(P_mat**(item[1]-offset))[item[0]-1].round(0))} students archieved grade {item[0]}')\n",
    "\n",
    "print(f'the probability for any student to archieve grade {g} after {y} years is p = {(grades.dot(P_mat**(y-offset))/sum(grades))[g-1]}')\n",
    "print(f'the probability for a student to switch from grade {g1} to grade {g2} in Δt = {delta_y} years is p = {(P_mat**delta_y)[g1-1, g2-1]}')"
   ]
  },
  {
   "cell_type": "code",
   "execution_count": null,
   "metadata": {},
   "outputs": [],
   "source": [
    "from sympy import Matrix\n",
    "from sympy.stats import DiscreteMarkovChain\n",
    "from IPython.display import display\n",
    "\n",
    "\n",
    "P_mat = [[0,1,0,0],\n",
    "        [0,0,1/2,1/2],\n",
    "        [1/2,0,0,1/2],\n",
    "        [1/3,1/3,1/3,0]]\n",
    "\n",
    "Y = DiscreteMarkovChain(\"Y\", list(range(1, len(P_mat)+1)), Matrix(P_mat))\n",
    "display(Y)\n",
    "print(f'stationary distribution π = {Y.stationary_distribution()}')\n",
    "print(f'node with the highest importance: {list(Y.stationary_distribution()).index(max(Y.stationary_distribution()))+1}')"
   ]
  }
 ],
 "metadata": {
  "kernelspec": {
   "display_name": "Python 3",
   "language": "python",
   "name": "python3"
  },
  "language_info": {
   "codemirror_mode": {
    "name": "ipython",
    "version": 3
   },
   "file_extension": ".py",
   "mimetype": "text/x-python",
   "name": "python",
   "nbconvert_exporter": "python",
   "pygments_lexer": "ipython3",
   "version": "3.11.0"
  },
  "orig_nbformat": 4,
  "vscode": {
   "interpreter": {
    "hash": "aee8b7b246df8f9039afb4144a1f6fd8d2ca17a180786b69acc140d282b71a49"
   }
  }
 },
 "nbformat": 4,
 "nbformat_minor": 2
}
