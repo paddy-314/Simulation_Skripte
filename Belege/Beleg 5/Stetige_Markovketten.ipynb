{
 "cells": [
  {
   "cell_type": "code",
   "execution_count": null,
   "metadata": {},
   "outputs": [],
   "source": [
    "from sympy import Matrix, Sum, IndexedBase, symbols, Eq, solve\n",
    "from sympy.stats import ContinuousMarkovChain\n",
    "from IPython.display import display\n",
    "from sympy.abc import j, pi, i, q\n",
    "from itertools import product\n",
    "\n",
    "alpha = 3/11\n",
    "beta = 2/17\n",
    "gamma = 1/11\n",
    "delta = 3/7\n",
    "\n",
    "P_mat =[[0, alpha, 2*alpha, 0],\n",
    "        [0, 0, beta, 3*beta],\n",
    "        [4*gamma, 0, 0, gamma],\n",
    "        [0, delta, delta, 0]]\n",
    "\n",
    "for i, row in enumerate(P_mat):\n",
    "    if row[i] == 0: row[i] = -sum(row)\n",
    "    \n",
    "Y = ContinuousMarkovChain(\"Y\", list(range(len(P_mat))), Matrix(P_mat))\n",
    "display(Y)\n",
    "\n",
    "pi = IndexedBase('pi')\n",
    "q = IndexedBase('q')\n",
    "\n",
    "equations = []\n",
    "\n",
    "for i, node in enumerate(P_mat):\n",
    "    inflow = Sum(pi[j] * q[j,i], (j, 0, len(P_mat)-1)) - Sum(pi[j] * q[j,i], (j, i, i)) # remove the element where i == j\n",
    "    outflow = Sum(pi[i] * q[i,j], (j, 0, len(P_mat)-1)) - Sum(pi[i] * q[i,j], (j, i, i)) # remove the element where i == j\n",
    "    equation = (inflow-outflow).doit()\n",
    "    equations.append(equation.subs([(q[j, i], P_mat[j][i]) for j, i in product(range(len(P_mat)), range(len(P_mat)))]).doit()) # plug in the values from the matrix\n",
    "\n",
    "equations.append((Sum(pi[j],(j, 0, len(P_mat)-1))-1).doit()) # side condition, sum of probs need to be 1\n",
    "solve(equations)\n"
   ]
  }
 ],
 "metadata": {
  "kernelspec": {
   "display_name": "Python 3",
   "language": "python",
   "name": "python3"
  },
  "language_info": {
   "codemirror_mode": {
    "name": "ipython",
    "version": 3
   },
   "file_extension": ".py",
   "mimetype": "text/x-python",
   "name": "python",
   "nbconvert_exporter": "python",
   "pygments_lexer": "ipython3",
   "version": "3.11.0"
  },
  "orig_nbformat": 4,
  "vscode": {
   "interpreter": {
    "hash": "aee8b7b246df8f9039afb4144a1f6fd8d2ca17a180786b69acc140d282b71a49"
   }
  }
 },
 "nbformat": 4,
 "nbformat_minor": 2
}
