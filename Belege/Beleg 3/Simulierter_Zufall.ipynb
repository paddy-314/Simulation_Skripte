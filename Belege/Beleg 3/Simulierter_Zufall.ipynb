{
 "cells": [
  {
   "cell_type": "code",
   "execution_count": null,
   "metadata": {},
   "outputs": [],
   "source": [
    "from sympy import primefactors, floor, sqrt\n",
    "from math import lcm, gcd\n",
    "\n",
    "m = 810\n",
    "randomNumbers = [694] # starting value / seed\n",
    "n = 13 # define how many random numbers should be generated\n",
    "\n",
    "\n",
    "a = lcm(*primefactors(m)) # prime factorization, find least common multiple\n",
    "\n",
    "tmp = a\n",
    "while a < floor(sqrt(m)): # a does not meet condition >= floor(sqrt(m))\n",
    "    a += tmp\n",
    "if m % 4 == 0: # m is divisible by 4 -> a as well\n",
    "    while a % 4 != 0:\n",
    "        a += tmp\n",
    "a+=1 # finally add 1 to reverse operation (a -1) to get prime devisor\n",
    "\n",
    "for c in range(floor(m/5), m):\n",
    "    xi = randomNumbers.copy()\n",
    "    for i in range(m):\n",
    "        val = (a*xi[i]+c) % m\n",
    "        if val not in xi:\n",
    "            xi.append(val)\n",
    "        else: break\n",
    "    # check if m and c are coprime\n",
    "    if len(set(xi)) == m and gcd(m, c) == 1: break\n",
    "\n",
    "print(f\"a = {a} \\nc = {c} \\nx[{n}] = {xi[n]}\")"
   ]
  },
  {
   "cell_type": "code",
   "execution_count": null,
   "metadata": {},
   "outputs": [],
   "source": [
    "from sympy import primefactors, floor, sqrt, ln\n",
    "from sympy.stats import P, Normal\n",
    "from numpy import interp\n",
    "from math import lcm, gcd\n",
    "\n",
    "mu = 15\n",
    "sigma = 3.4\n",
    "\n",
    "m = 2352\n",
    "a = 85\n",
    "c = 473 \n",
    "randomNumbers = [311] # starting value / seed\n",
    "n = 500 # define how many random numbers should be generated e.g. 𝑖=1,2,…,500\n",
    "\n",
    "# P(x_min ≤ 𝑋 ≤ x_max)\n",
    "x_min = 13\n",
    "x_max = 17\n",
    "\n",
    "ui = {}\n",
    "zi = []\n",
    "for i in range(n):\n",
    "    val = (a*randomNumbers[i]+c) % m\n",
    "    randomNumbers.append(val)\n",
    "    ui[i] = interp(val/m, [0,1], [-1,1]) # mapping to another range\n",
    "\n",
    "for i in range(n-1):\n",
    "    r = ui[i]**2 + ui[i+1]**2\n",
    "    if r != 0 and r <= 1:\n",
    "        zi.append(ui[i]*sqrt((-2*ln(r))/r))\n",
    "        zi.append(ui[i+1]*sqrt((-2*ln(r))/r))\n",
    "\n",
    "count = 0\n",
    "zi = list(map(lambda x: x * sigma + mu, zi)) # 𝑧̃𝑖 = 𝜎⋅𝑧𝑖+𝜇\n",
    "count = sum([1 if item >= x_min and item <= x_max else 0 for item in zi])\n",
    "\n",
    "X = Normal('X', mu, sigma)\n",
    "\n",
    "print(f\"random numbers generated: {len(zi)}\")\n",
    "print(f\"{count/len(zi)}\")\n",
    "print(float(P(X <= x_max) - P(X <= x_min)))"
   ]
  }
 ],
 "metadata": {
  "kernelspec": {
   "display_name": "Python 3",
   "language": "python",
   "name": "python3"
  },
  "language_info": {
   "codemirror_mode": {
    "name": "ipython",
    "version": 3
   },
   "file_extension": ".py",
   "mimetype": "text/x-python",
   "name": "python",
   "nbconvert_exporter": "python",
   "pygments_lexer": "ipython3",
   "version": "3.11.0"
  },
  "orig_nbformat": 4,
  "vscode": {
   "interpreter": {
    "hash": "aee8b7b246df8f9039afb4144a1f6fd8d2ca17a180786b69acc140d282b71a49"
   }
  }
 },
 "nbformat": 4,
 "nbformat_minor": 2
}
