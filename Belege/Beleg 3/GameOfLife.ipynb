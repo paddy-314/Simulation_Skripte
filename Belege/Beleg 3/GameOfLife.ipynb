{
 "cells": [
  {
   "cell_type": "code",
   "execution_count": null,
   "metadata": {},
   "outputs": [],
   "source": [
    "import numpy as np\n",
    "import matplotlib.pyplot as plt\n",
    "\n",
    "#positions of living cells\n",
    "a = np.array([  [1,0,0,0,0,0,0],\n",
    "                [1,0,0,0,1,0,0],\n",
    "                [1,0,1,0,0,1,0],\n",
    "                [0,0,1,1,0,1,1],\n",
    "                [0,1,0,1,0,1,1],\n",
    "                [1,0,1,1,0,0,0]])\n",
    "\n",
    "showIterations = [0,1,5]\n",
    "\n",
    "def lnc(i, j, a): #living neighbours\n",
    "    x = i\n",
    "    y = j\n",
    "    neighbours = 0\n",
    "\n",
    "    \"\"\"Return neighbours of given cell.\"\"\"\n",
    "    cellsToCheck = [(x-1, y-1), (x, y-1),  (x+1, y-1), \n",
    "                    (x-1, y),               (x+1, y), \n",
    "                    (x-1, y+1), (x, y+1), (x+1, y+1),]\n",
    "    for x,y in cellsToCheck:\n",
    "        if x >= 0 and x< a.shape[0] and y >= 0 and y < a.shape[1]:\n",
    "            # neighbour is alive\n",
    "            neighbours += a[x, y]\n",
    "    return int(neighbours)\n",
    "\n",
    "\n",
    "aneu = np.copy(a)\n",
    "\n",
    "for its in range(max(showIterations)+1):\n",
    "    for i in range(a.shape[0]):\n",
    "        for j in range(a.shape[1]):\n",
    "            k = lnc(i, j, a)\n",
    "            if a[i, j] == 0 and k == 3:\n",
    "                aneu[i, j] = 1\n",
    "            else:\n",
    "                if k<2 or k>3:\n",
    "                    aneu[i, j] = 0\n",
    "    if its in showIterations:\n",
    "        print(f\"------------ {its}. generation ------------\")\n",
    "        print(a, end=\"\\n\\n\")\n",
    "        print(f\"number of living cells in 2nd column: {a.sum(axis=0)[1]}\")\n",
    "        print(f\"number of living cells in last row: {a.sum(axis=1)[-1]}\")\n",
    "        print(f\"total number of living cells: {np.sum(a)}\", end=\"\\n\\n\")\n",
    "    a = np.copy(aneu)"
   ]
  }
 ],
 "metadata": {
  "kernelspec": {
   "display_name": "Python 3",
   "language": "python",
   "name": "python3"
  },
  "language_info": {
   "codemirror_mode": {
    "name": "ipython",
    "version": 3
   },
   "file_extension": ".py",
   "mimetype": "text/x-python",
   "name": "python",
   "nbconvert_exporter": "python",
   "pygments_lexer": "ipython3",
   "version": "3.9.6 (default, Oct 18 2022, 12:41:40) \n[Clang 14.0.0 (clang-1400.0.29.202)]"
  },
  "orig_nbformat": 4,
  "vscode": {
   "interpreter": {
    "hash": "31f2aee4e71d21fbe5cf8b01ff0e069b9275f58929596ceb00d14d90e3e16cd6"
   }
  }
 },
 "nbformat": 4,
 "nbformat_minor": 2
}
