{
 "cells": [
  {
   "cell_type": "markdown",
   "metadata": {},
   "source": [
    "## Game Of Life"
   ]
  },
  {
   "cell_type": "code",
   "execution_count": null,
   "metadata": {},
   "outputs": [],
   "source": [
    "import numpy as np\n",
    "import matplotlib.pyplot as plt\n",
    "\n",
    "m,n = 30,30\n",
    "a = np.round(np.random.rand(m,n))\n",
    "maxit = 20"
   ]
  },
  {
   "cell_type": "code",
   "execution_count": null,
   "metadata": {},
   "outputs": [],
   "source": [
    "def lnc(i, j, a): #living neighbours\n",
    "    x = i\n",
    "    y = j\n",
    "    neighbours = 0\n",
    "\n",
    "    \"\"\"Return neighbours of given cell.\"\"\"\n",
    "    cellsToCheck = [(x-1, y-1), (x, y-1),  (x+1, y-1), \n",
    "                    (x-1, y),               (x+1, y), \n",
    "                    (x-1, y+1), (x, y+1), (x+1, y+1),]\n",
    "    for x,y in cellsToCheck:\n",
    "        if x >= 0 and x< a.shape[0] and y >= 0 and y < a.shape[1]:\n",
    "            # neighbour is alive\n",
    "            neighbours += a[x, y]\n",
    "    return int(neighbours)\n"
   ]
  },
  {
   "cell_type": "code",
   "execution_count": null,
   "metadata": {},
   "outputs": [],
   "source": [
    "from IPython.display import clear_output, display\n",
    "import time\n",
    "\n",
    "fig = plt.figure()\n",
    "ax = fig.add_subplot()\n",
    "aneu = np.copy(a)\n",
    "\n",
    "for its in range(maxit):\n",
    "    for i in range(a.shape[0]):\n",
    "        for j in range(a.shape[1]):\n",
    "            k = lnc(i, j, a)\n",
    "            if a[i, j] == 0 and k == 3:\n",
    "                aneu[i, j] = 1\n",
    "            else:\n",
    "                if k<2 or k>3:\n",
    "                    aneu[i, j] = 0\n",
    "    if (a == aneu).all() or (aneu == np.zeros((m,n))).all():\n",
    "        break\n",
    "    else:\n",
    "        ax.spy(aneu)\n",
    "        display(fig)\n",
    "        clear_output(wait=True)\n",
    "        a = np.copy(aneu)\n",
    "        time.sleep(0.5)"
   ]
  }
 ],
 "metadata": {
  "kernelspec": {
   "display_name": "Python 3.11.0 64-bit",
   "language": "python",
   "name": "python3"
  },
  "language_info": {
   "codemirror_mode": {
    "name": "ipython",
    "version": 3
   },
   "file_extension": ".py",
   "mimetype": "text/x-python",
   "name": "python",
   "nbconvert_exporter": "python",
   "pygments_lexer": "ipython3",
   "version": "3.11.0 (v3.11.0:deaf509e8f, Oct 24 2022, 14:43:23) [Clang 13.0.0 (clang-1300.0.29.30)]"
  },
  "orig_nbformat": 4,
  "vscode": {
   "interpreter": {
    "hash": "aee8b7b246df8f9039afb4144a1f6fd8d2ca17a180786b69acc140d282b71a49"
   }
  }
 },
 "nbformat": 4,
 "nbformat_minor": 2
}
