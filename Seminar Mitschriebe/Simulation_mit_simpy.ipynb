{
 "cells": [
  {
   "attachments": {},
   "cell_type": "markdown",
   "metadata": {},
   "source": [
    "+ Simulationsprozesse durch ``process`` realisiert\n",
    "+ Prozesse werden in einem ``environment`` angesiedelt, über die sie interagieren"
   ]
  },
  {
   "attachments": {},
   "cell_type": "markdown",
   "metadata": {},
   "source": [
    "**Szenario**: Ein Drucker, der sich zu festen Zeiten in festen in zwei möglichen Zuständen befindet: \n",
    "+ Drucker arbeitet für die Dauer ``druckdauer``\n",
    "+ Drucker wartet auf Druckauftrag ``wartezeit``"
   ]
  },
  {
   "cell_type": "code",
   "execution_count": 19,
   "metadata": {},
   "outputs": [],
   "source": [
    "import simpy as si\n",
    "\n",
    "def drucker(env):\n",
    "    while True:\n",
    "        print('starte Druckvorgang %d' % env.now)\n",
    "        druckdauer = 2\n",
    "        yield env.timeout(druckdauer)\n",
    "        \n",
    "        print('Wartezeit auf Druckauftrag beginnt zur Zeit %d' % env.now)\n",
    "        wartezeit = 10 \n",
    "        yield env.timeout(wartezeit)"
   ]
  },
  {
   "attachments": {},
   "cell_type": "markdown",
   "metadata": {},
   "source": [
    "Prozess ``drucker`` benötigt eine Referenz auf die Umgebung ``env``, um neue Ereignisse zu starten. \n",
    "+ Prozess als Endlosschleife angelegt\n",
    "+ Sobald ``yield`` erreicht wird, gibt Prozess ``drucker``die Kontrolle an das Environment (Simulation) ab.\n",
    "+ Durch ``timeout``-Aufruf mit Übergabe des entsprechenden Ereignisses (hier: ``druckdauer``und ``wartezeit``) wird der Simulation signalisiert, auf dieses Ereignis zu warten.\n",
    "+ Ausgabe des aktuellen Zustands zur aktuellen Simulationszeit"
   ]
  },
  {
   "cell_type": "code",
   "execution_count": 20,
   "metadata": {},
   "outputs": [
    {
     "name": "stdout",
     "output_type": "stream",
     "text": [
      "starte Druckvorgang 0\n",
      "Wartezeit auf Druckauftrag beginnt zur Zeit 2\n",
      "starte Druckvorgang 12\n",
      "Wartezeit auf Druckauftrag beginnt zur Zeit 14\n",
      "starte Druckvorgang 24\n",
      "Wartezeit auf Druckauftrag beginnt zur Zeit 26\n",
      "starte Druckvorgang 36\n",
      "Wartezeit auf Druckauftrag beginnt zur Zeit 38\n",
      "starte Druckvorgang 48\n",
      "Wartezeit auf Druckauftrag beginnt zur Zeit 50\n"
     ]
    }
   ],
   "source": [
    "# erzeuge Simulationsumgebung\n",
    "env = si.Environment()\n",
    "env.process(drucker(env))\n",
    "\n",
    "#starte Simulation\n",
    "env.run(until=60)"
   ]
  },
  {
   "attachments": {},
   "cell_type": "markdown",
   "metadata": {},
   "source": [
    "**Szenario**: Betrachte Druckerpool mit 4 Druckern. Jede Minute kommt ein neuer Druckauftrag an, dessen Ausführung jeweils 3 Minuten dauert."
   ]
  },
  {
   "cell_type": "code",
   "execution_count": 21,
   "metadata": {},
   "outputs": [],
   "source": [
    "def druckerpool (env, auftrag, drucker, ankunft, druckdauer):\n",
    "    #simuliere ankommende druckaufträge\n",
    "    yield env.timeout(ankunft)\n",
    "    print('%s kommt an zur Zeit %d' % (auftrag, env.now)) # \"Auftrag XxI kommt an zur Zeit yy\"\n",
    "    tankunft = env.now\n",
    "\n",
    "    #fordere drucker an\n",
    "    with drucker.request() as req:\n",
    "        yield req\n",
    "            \n",
    "        #auftrag wird gedruckt msobald ressource frei\n",
    "        wartezeit = env.now - tankunft\n",
    "        print ('%s Druckbeginn zur Zeit %d (mit Wartezeit %d und Dauer %d)' % (auftrag, env.now, wartezeit, druckdauer)) # \"Auftrag xx Druckbeginn zur Zeit yy\" \n",
    "        yield env.timeout(druckdauer)\n",
    "        print('%s Druckende zur Zeit %d' % (auftrag, env.now)) # \"Auftrag xx Druckende zur Zeit yy\""
   ]
  },
  {
   "attachments": {},
   "cell_type": "markdown",
   "metadata": {},
   "source": [
    "+ mit request() wird Durcker zur Bearbeitung angefordert bzw. u.U. auf einen freien Drucker gewartet\n",
    "+ wird request zusammen mit with angewendet, dann wird die angeforderte Ressource nach Bearbeitung eines Auftrags automatisch wieder freigegeben\n",
    "+ Ressource mit FCFS-Disziplin beschäftigt\n",
    "+ Ressourcen brauchen einen Verweis auf Simulationsumgebung und eine Kapazitätsangabe (später)"
   ]
  },
  {
   "cell_type": "code",
   "execution_count": 22,
   "metadata": {},
   "outputs": [
    {
     "name": "stdout",
     "output_type": "stream",
     "text": [
      "Auftrag 1 kommt an zur Zeit 1\n",
      "Auftrag 1 Druckbeginn zur Zeit 1 (mit Wartezeit 0 und Dauer 3)\n",
      "Auftrag 2 kommt an zur Zeit 2\n",
      "Auftrag 2 Druckbeginn zur Zeit 2 (mit Wartezeit 0 und Dauer 3)\n",
      "Auftrag 3 kommt an zur Zeit 3\n",
      "Auftrag 3 Druckbeginn zur Zeit 3 (mit Wartezeit 0 und Dauer 3)\n",
      "Auftrag 4 kommt an zur Zeit 4\n",
      "Auftrag 1 Druckende zur Zeit 4\n",
      "Auftrag 4 Druckbeginn zur Zeit 4 (mit Wartezeit 0 und Dauer 3)\n",
      "Auftrag 5 kommt an zur Zeit 5\n",
      "Auftrag 2 Druckende zur Zeit 5\n",
      "Auftrag 5 Druckbeginn zur Zeit 5 (mit Wartezeit 0 und Dauer 3)\n",
      "Auftrag 6 kommt an zur Zeit 6\n",
      "Auftrag 3 Druckende zur Zeit 6\n",
      "Auftrag 6 Druckbeginn zur Zeit 6 (mit Wartezeit 0 und Dauer 3)\n",
      "Auftrag 7 kommt an zur Zeit 7\n",
      "Auftrag 4 Druckende zur Zeit 7\n",
      "Auftrag 7 Druckbeginn zur Zeit 7 (mit Wartezeit 0 und Dauer 3)\n",
      "Auftrag 8 kommt an zur Zeit 8\n",
      "Auftrag 5 Druckende zur Zeit 8\n",
      "Auftrag 8 Druckbeginn zur Zeit 8 (mit Wartezeit 0 und Dauer 3)\n",
      "Auftrag 9 kommt an zur Zeit 9\n",
      "Auftrag 6 Druckende zur Zeit 9\n",
      "Auftrag 9 Druckbeginn zur Zeit 9 (mit Wartezeit 0 und Dauer 3)\n",
      "Auftrag 10 kommt an zur Zeit 10\n",
      "Auftrag 7 Druckende zur Zeit 10\n",
      "Auftrag 10 Druckbeginn zur Zeit 10 (mit Wartezeit 0 und Dauer 3)\n",
      "Auftrag 8 Druckende zur Zeit 11\n",
      "Auftrag 9 Druckende zur Zeit 12\n",
      "Auftrag 10 Druckende zur Zeit 13\n"
     ]
    }
   ],
   "source": [
    "# initialisiere Simulationsumgebung\n",
    "env = si.Environment()\n",
    "drucker = si.Resource(env, capacity=4)\n",
    "\n",
    "# betrachte die ersten 10 druckaufträge\n",
    "for i in range(1,11):\n",
    "    env.process(druckerpool(env, f'Auftrag {i}', drucker, i, 3))\n",
    "\n",
    "#starte simulation\n",
    "env.run()"
   ]
  },
  {
   "attachments": {},
   "cell_type": "markdown",
   "metadata": {},
   "source": [
    "**Szenario**: Druckerpool mit zwei Druckern. Zwei aufeinanderfolgende Druckaufträge kommen im zufälligen (ganzzahligen) Abstand zwischen 1 und 4 Minuten an. Ihre Ausführung dauert jeweils eine (ganzzahlige) Dauer zwischen 2 und 6 Minuten."
   ]
  },
  {
   "cell_type": "code",
   "execution_count": 26,
   "metadata": {},
   "outputs": [
    {
     "name": "stdout",
     "output_type": "stream",
     "text": [
      "Auftrag 1 kommt an zur Zeit 2\n",
      "Auftrag 1 Druckbeginn zur Zeit 2 (mit Wartezeit 0 und Dauer 6)\n",
      "Auftrag 2 kommt an zur Zeit 6\n",
      "Auftrag 2 Druckbeginn zur Zeit 6 (mit Wartezeit 0 und Dauer 3)\n",
      "Auftrag 3 kommt an zur Zeit 7\n",
      "Auftrag 4 kommt an zur Zeit 8\n",
      "Auftrag 1 Druckende zur Zeit 8\n",
      "Auftrag 3 Druckbeginn zur Zeit 8 (mit Wartezeit 1 und Dauer 6)\n",
      "Auftrag 5 kommt an zur Zeit 9\n",
      "Auftrag 2 Druckende zur Zeit 9\n",
      "Auftrag 4 Druckbeginn zur Zeit 9 (mit Wartezeit 1 und Dauer 6)\n",
      "Auftrag 6 kommt an zur Zeit 13\n",
      "Auftrag 3 Druckende zur Zeit 14\n",
      "Auftrag 5 Druckbeginn zur Zeit 14 (mit Wartezeit 5 und Dauer 5)\n",
      "Auftrag 7 kommt an zur Zeit 15\n",
      "Auftrag 4 Druckende zur Zeit 15\n",
      "Auftrag 6 Druckbeginn zur Zeit 15 (mit Wartezeit 2 und Dauer 6)\n",
      "Auftrag 8 kommt an zur Zeit 17\n",
      "Auftrag 9 kommt an zur Zeit 19\n",
      "Auftrag 5 Druckende zur Zeit 19\n",
      "Auftrag 7 Druckbeginn zur Zeit 19 (mit Wartezeit 4 und Dauer 5)\n",
      "Auftrag 6 Druckende zur Zeit 21\n",
      "Auftrag 8 Druckbeginn zur Zeit 21 (mit Wartezeit 4 und Dauer 6)\n",
      "Auftrag 10 kommt an zur Zeit 23\n",
      "Auftrag 7 Druckende zur Zeit 24\n",
      "Auftrag 9 Druckbeginn zur Zeit 24 (mit Wartezeit 5 und Dauer 2)\n",
      "Auftrag 9 Druckende zur Zeit 26\n",
      "Auftrag 10 Druckbeginn zur Zeit 26 (mit Wartezeit 3 und Dauer 4)\n",
      "Auftrag 8 Druckende zur Zeit 27\n",
      "Auftrag 10 Druckende zur Zeit 30\n"
     ]
    }
   ],
   "source": [
    "import random\n",
    "\n",
    "# initialisiere Simulationsumgebung\n",
    "env = si.Environment()\n",
    "drucker = si.Resource(env, capacity=2)\n",
    "\n",
    "t0 = 0\n",
    "# betrachte die ersten 10 druckaufträge\n",
    "for i in range(1,11):\n",
    "    t0 += random.randint(1,4)\n",
    "    env.process(druckerpool(env, f'Auftrag {i}', drucker, t0, random.randint(2,6)))\n",
    "\n",
    "env.run()"
   ]
  },
  {
   "attachments": {},
   "cell_type": "markdown",
   "metadata": {},
   "source": [
    "## M/M/2 - Supermarktkasse"
   ]
  },
  {
   "cell_type": "code",
   "execution_count": 27,
   "metadata": {},
   "outputs": [],
   "source": [
    "# mittlerer Ankunftsabstand a, mittlere Bediendauer b [sekunden]\n",
    "\n",
    "a = 25\n",
    "b = 45\n",
    "\n",
    "def kassensystem(env, kunde, kasse, ankunft, kassierdauer):\n",
    "    # simuliere ankommende Kunden\n",
    "    yield env.timeout(ankunft)\n",
    "    print('%f %s Ankunft in Warteschlange' % (env.now, kunde))\n",
    "    tankunft = env.now\n",
    "\n",
    "    # fordere Kasiervorgang an\n",
    "    with kasse.request() as req:\n",
    "        yield req\n",
    "        wartezeit = env.now - tankunft\n",
    "        print('%f %s Kassiervorgang beginnt (Wartezeit %f)' % (env.now, kunde, wartezeit))\n",
    "        \n",
    "        yield env.timeout(kassierdauer)\n",
    "        print('%f %s Kassiervorgang endet' % (env.now, kunde))\n"
   ]
  },
  {
   "cell_type": "code",
   "execution_count": 28,
   "metadata": {},
   "outputs": [
    {
     "name": "stdout",
     "output_type": "stream",
     "text": [
      "7.557243 Kunde 1 Ankunft in Warteschlange\n",
      "7.557243 Kunde 1 Kassiervorgang beginnt (Wartezeit 0.000000)\n",
      "9.293814 Kunde 1 Kassiervorgang endet\n",
      "10.631187 Kunde 2 Ankunft in Warteschlange\n",
      "10.631187 Kunde 2 Kassiervorgang beginnt (Wartezeit 0.000000)\n",
      "21.058087 Kunde 3 Ankunft in Warteschlange\n",
      "21.058087 Kunde 3 Kassiervorgang beginnt (Wartezeit 0.000000)\n",
      "21.150267 Kunde 2 Kassiervorgang endet\n",
      "25.221955 Kunde 3 Kassiervorgang endet\n",
      "46.359273 Kunde 4 Ankunft in Warteschlange\n",
      "46.359273 Kunde 4 Kassiervorgang beginnt (Wartezeit 0.000000)\n",
      "48.645665 Kunde 4 Kassiervorgang endet\n",
      "49.278245 Kunde 5 Ankunft in Warteschlange\n",
      "49.278245 Kunde 5 Kassiervorgang beginnt (Wartezeit 0.000000)\n",
      "93.395732 Kunde 6 Ankunft in Warteschlange\n",
      "93.395732 Kunde 6 Kassiervorgang beginnt (Wartezeit 0.000000)\n",
      "96.723005 Kunde 6 Kassiervorgang endet\n",
      "158.610302 Kunde 5 Kassiervorgang endet\n",
      "181.966087 Kunde 7 Ankunft in Warteschlange\n",
      "181.966087 Kunde 7 Kassiervorgang beginnt (Wartezeit 0.000000)\n",
      "187.425462 Kunde 8 Ankunft in Warteschlange\n",
      "187.425462 Kunde 8 Kassiervorgang beginnt (Wartezeit 0.000000)\n",
      "205.063469 Kunde 9 Ankunft in Warteschlange\n",
      "258.510871 Kunde 10 Ankunft in Warteschlange\n",
      "336.911901 Kunde 8 Kassiervorgang endet\n",
      "336.911901 Kunde 9 Kassiervorgang beginnt (Wartezeit 131.848433)\n",
      "365.876441 Kunde 9 Kassiervorgang endet\n",
      "365.876441 Kunde 10 Kassiervorgang beginnt (Wartezeit 107.365571)\n",
      "373.342486 Kunde 10 Kassiervorgang endet\n",
      "396.457840 Kunde 7 Kassiervorgang endet\n"
     ]
    }
   ],
   "source": [
    "env = si.Environment()\n",
    "kasse = si.Resource(env, capacity=2)\n",
    "\n",
    "t0 = 0\n",
    "# betrachte die ersten 10 Kunden\n",
    "for i in range(1,11):\n",
    "    t0 += random.expovariate(1/a)\n",
    "    env.process(kassensystem(env, f'Kunde {i}', kasse, t0, random.expovariate(1/b)))\n",
    "\n",
    "env.run()"
   ]
  }
 ],
 "metadata": {
  "kernelspec": {
   "display_name": "Python 3",
   "language": "python",
   "name": "python3"
  },
  "language_info": {
   "codemirror_mode": {
    "name": "ipython",
    "version": 3
   },
   "file_extension": ".py",
   "mimetype": "text/x-python",
   "name": "python",
   "nbconvert_exporter": "python",
   "pygments_lexer": "ipython3",
   "version": "3.11.0"
  },
  "orig_nbformat": 4,
  "vscode": {
   "interpreter": {
    "hash": "aee8b7b246df8f9039afb4144a1f6fd8d2ca17a180786b69acc140d282b71a49"
   }
  }
 },
 "nbformat": 4,
 "nbformat_minor": 2
}
