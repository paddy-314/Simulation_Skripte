{
 "cells": [
  {
   "cell_type": "code",
   "execution_count": null,
   "metadata": {},
   "outputs": [],
   "source": [
    "from sympy import floor, oo\n",
    "from sympy.stats import P, Normal\n",
    "from scipy import stats\n",
    "import plotly.graph_objects as go\n",
    "from numpy import transpose, sqrt\n",
    "\n",
    "classes = [[-oo,57], [57,62], [62,67], [67,72], [72,77], [77,82], [82,oo]]\n",
    "delta_t_amounts = [5,13,20,26,24,6,6]\n",
    "n = sum(delta_t_amounts)\n",
    "t_mean = 68.56\n",
    "sigma = 7.73072\n",
    "alpha = 0.05\n",
    "\n",
    "class sample:\n",
    "    n = n\n",
    "    lamd = 1/t_mean\n",
    "\n",
    "    def __init__(self, lowerLimit_closed, upperLimit_open, nᵢ):\n",
    "        self.lowerLimit = lowerLimit_closed\n",
    "        self.upperLimit = upperLimit_open\n",
    "        self.nᵢ = nᵢ\n",
    "        self.X = Normal('X', t_mean, sigma)\n",
    "        self.pᵢ = float(P(self.X <= self.upperLimit) - P(self.X <= self.lowerLimit))\n",
    "        self.nᵢˣ = sample.n * self.pᵢ\n",
    "        self.equation = (self.nᵢ - self.nᵢˣ)**2/self.nᵢˣ\n",
    "\n",
    "def sum_col(name, table_data):\n",
    "    return sum([table_data[i][name] for i, item in enumerate(table_data)])\n",
    "\n",
    "if n != sum(delta_t_amounts):\n",
    "    raise IOError(\"delta_t_amounts and n are not equal, possibly wrong input\")\n",
    "\n",
    "s = [sample(delta_t_class[0], delta_t_class[1], delta_t_amounts[i]) for i, delta_t_class in enumerate(classes)]\n",
    "\n",
    "table_data = []\n",
    "for i, _sample in enumerate(s):\n",
    "    samples = {}\n",
    "    samples['class'] = f\"[{_sample.lowerLimit},{_sample.upperLimit})\"\n",
    "    samples['nᵢ'] = _sample.nᵢ\n",
    "    samples['pᵢ'] = _sample.pᵢ\n",
    "    samples['nᵢˣ'] = _sample.nᵢˣ\n",
    "    samples['equation'] = _sample.equation\n",
    "    table_data.append(samples)\n",
    "table_data.append({'class': 'sum', 'nᵢ': sum_col('nᵢ', table_data), 'pᵢ': sum_col('pᵢ', table_data), 'nᵢˣ': sum_col('nᵢˣ', table_data), 'equation': sum_col('equation', table_data)})\n",
    "\n",
    "f = len(delta_t_amounts) -1\n",
    "quantile = 1-alpha\n",
    "degrees = f-2 # 2 assumptions -> degrees -2\n",
    "c = stats.chi2.ppf(quantile, degrees)\n",
    "z = table_data[-1]['equation']\n",
    "\n",
    "print(f'estimated value 𝜆̂ = {1/t_mean}')\n",
    "print(f\"class {table_data[0]['class']}: pᵢ = {table_data[0]['pᵢ']}\")\n",
    "print(f\"class {table_data[1]['class']}: equation = {table_data[1]['equation']}\")\n",
    "print(f\"class {table_data[-2]['class']}: nᵢˣ = {table_data[-2]['nᵢˣ']}\")\n",
    "print(f\"test value: z = {z}\")\n",
    "print(f'c = {c} is the {quantile:1f}-quantile of the 𝜒²-distribution with f = {degrees} degrees')\n",
    "print(f\"the sample {'seems' if z < c else 'does not seem'} to be equally distributed with a {alpha*100}% error rate\")\n",
    "\n",
    "fig = go.Figure(data=[go.Table(header=dict(values=list(samples.keys())),\n",
    "                 cells=dict(values=transpose([list(item.values()) for item in table_data]), align=\"left\"))\n",
    "                    ])\n",
    "fig.show()"
   ]
  }
 ],
 "metadata": {
  "kernelspec": {
   "display_name": "Python 3",
   "language": "python",
   "name": "python3"
  },
  "language_info": {
   "codemirror_mode": {
    "name": "ipython",
    "version": 3
   },
   "file_extension": ".py",
   "mimetype": "text/x-python",
   "name": "python",
   "nbconvert_exporter": "python",
   "pygments_lexer": "ipython3",
   "version": "3.11.0"
  },
  "orig_nbformat": 4,
  "vscode": {
   "interpreter": {
    "hash": "aee8b7b246df8f9039afb4144a1f6fd8d2ca17a180786b69acc140d282b71a49"
   }
  }
 },
 "nbformat": 4,
 "nbformat_minor": 2
}
