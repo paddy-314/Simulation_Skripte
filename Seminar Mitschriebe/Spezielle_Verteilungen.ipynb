{
 "cells": [
  {
   "cell_type": "code",
   "execution_count": null,
   "metadata": {},
   "outputs": [],
   "source": [
    "from scipy import stats\n",
    "\n",
    "n=20\n",
    "p=0.78\n",
    "k=13\n",
    "print(stats.binom.pmf(k,n,p), f\" = {stats.binom.pmf(k,n,p)*100}%\")"
   ]
  },
  {
   "cell_type": "code",
   "execution_count": null,
   "metadata": {},
   "outputs": [],
   "source": [
    "last = [1]\n",
    "a = 3\n",
    "c = 5\n",
    "m = 8\n",
    "\n",
    "for i in range(m):\n",
    "    last.append((a*last[i]+c) % m)\n",
    "\n",
    "print(last, \"\\nunique values: \", len(set(last)))\n"
   ]
  },
  {
   "cell_type": "code",
   "execution_count": null,
   "metadata": {},
   "outputs": [],
   "source": [
    "import matplotlib.pyplot as plt\n",
    "import numpy as np\n",
    "\n",
    "data = np.random.randn(5)\n",
    "print(\"The data is-\",data)\n",
    "sorted_random_data = np.sort(data)\n",
    "p =np.linspace(0, 1, len(data), endpoint=False)\n",
    "\n",
    "print(\"The CDF result using linspace =\\n\",p)\n",
    "\n",
    "fig = plt.figure()\n",
    "fig.suptitle('CDF of data points')\n",
    "ax2 = fig.add_subplot(111)\n",
    "ax2.plot(sorted_random_data, p)\n",
    "ax2.set_xlabel('sorted_random_data')\n",
    "ax2.set_ylabel('p')"
   ]
  }
 ],
 "metadata": {
  "kernelspec": {
   "display_name": "Python 3.9.6 64-bit",
   "language": "python",
   "name": "python3"
  },
  "language_info": {
   "codemirror_mode": {
    "name": "ipython",
    "version": 3
   },
   "file_extension": ".py",
   "mimetype": "text/x-python",
   "name": "python",
   "nbconvert_exporter": "python",
   "pygments_lexer": "ipython3",
   "version": "3.9.6 (default, Oct 18 2022, 12:41:40) \n[Clang 14.0.0 (clang-1400.0.29.202)]"
  },
  "orig_nbformat": 4,
  "vscode": {
   "interpreter": {
    "hash": "31f2aee4e71d21fbe5cf8b01ff0e069b9275f58929596ceb00d14d90e3e16cd6"
   }
  }
 },
 "nbformat": 4,
 "nbformat_minor": 2
}
