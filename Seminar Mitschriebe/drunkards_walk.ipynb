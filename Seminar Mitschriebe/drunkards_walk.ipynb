{
 "cells": [
  {
   "attachments": {},
   "cell_type": "markdown",
   "metadata": {},
   "source": [
    "## 1D Drunkard's Walk"
   ]
  },
  {
   "cell_type": "code",
   "execution_count": null,
   "metadata": {},
   "outputs": [],
   "source": [
    "import matplotlib.pyplot as plt \n",
    "import random as rnd\n",
    "\n",
    "d, s = 1500, 50 #anzahl betrunkener, anzahl schritte\n",
    "distlist = [] #liste der quadratischen Entfernungen jedes Betrunkenen nach s schritten\n",
    "\n",
    "for i in range(d):\n",
    "    slist = [(0,0)] #schrittliste\n",
    "    x = 0\n",
    "    for j in range(s):\n",
    "        x += (-1)**round(rnd.random())\n",
    "        slist.append((j+1,x))\n",
    "    distlist.append(slist[s][1]**2)\n",
    "    x,y = zip(*slist)\n",
    "    plt.plot(x,y)\n",
    "plt.show()\n",
    "\n",
    "rms = (sum(distlist)/len(distlist))**0.5\n",
    "rms"
   ]
  },
  {
   "attachments": {},
   "cell_type": "markdown",
   "metadata": {},
   "source": [
    "## 2D Drunkard's Walk"
   ]
  },
  {
   "cell_type": "code",
   "execution_count": null,
   "metadata": {},
   "outputs": [],
   "source": [
    "import matplotlib.pyplot as plt \n",
    "import random as rnd\n",
    "from numpy import pi, sin, cos\n",
    "\n",
    "d, s = 1000, 50 #anzahl betrunkener, anzahl schritte\n",
    "distlist = [] #liste der quadratischen Entfernungen jedes Betrunkenen nach s schritten\n",
    "\n",
    "for i in range(d):\n",
    "    slist = [(0,0)] #schrittliste\n",
    "    x, y = 0, 0\n",
    "    for j in range(s):\n",
    "        phi = 2*pi*rnd.random()\n",
    "        x += cos(phi)\n",
    "        y += sin(phi)\n",
    "        \n",
    "        slist.append((x, y))\n",
    "    distlist.append(slist[s][0]**2 + slist[s][1]**2)\n",
    "    x,y = zip(*slist)\n",
    "    plt.plot(x,y)\n",
    "plt.show()\n",
    "\n",
    "rms = (sum(distlist)/len(distlist))**0.5\n",
    "rms"
   ]
  }
 ],
 "metadata": {
  "kernelspec": {
   "display_name": "Python 3",
   "language": "python",
   "name": "python3"
  },
  "language_info": {
   "codemirror_mode": {
    "name": "ipython",
    "version": 3
   },
   "file_extension": ".py",
   "mimetype": "text/x-python",
   "name": "python",
   "nbconvert_exporter": "python",
   "pygments_lexer": "ipython3",
   "version": "3.11.0"
  },
  "orig_nbformat": 4,
  "vscode": {
   "interpreter": {
    "hash": "aee8b7b246df8f9039afb4144a1f6fd8d2ca17a180786b69acc140d282b71a49"
   }
  }
 },
 "nbformat": 4,
 "nbformat_minor": 2
}
