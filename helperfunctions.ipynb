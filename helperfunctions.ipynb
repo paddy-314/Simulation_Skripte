{
 "cells": [
  {
   "attachments": {},
   "cell_type": "markdown",
   "metadata": {},
   "source": [
    "### This function can be used to convert matrices from OPAL to sympy matrices. Just right click on any matrix and select \"show math as\" > \"TeX Commands\""
   ]
  },
  {
   "cell_type": "code",
   "execution_count": null,
   "metadata": {},
   "outputs": [],
   "source": [
    "import re\n",
    "from sympy import Matrix, transpose\n",
    "\n",
    "def latexToMatrix(latexInput):\n",
    "    if re.search(r'pmatrix{.+}', latexInput):\n",
    "        matrix = Matrix([])\n",
    "        rows = [x.group() for x in re.finditer(r'(?<=\\{|\\s).+?(?=\\\\cr)', latexInput)]\n",
    "        for row in rows:\n",
    "            items = [x.group() for x in re.finditer(r'(\\w|\\d)+\\.?\\d*', row)]\n",
    "            matrix = matrix.col_insert(len(matrix), Matrix(items))\n",
    "        return transpose(matrix)\n",
    "    else:\n",
    "        raise IOError(\"no matrix found\")\n",
    "\n",
    "print(latexToMatrix(\"P=\\pmatrix{0.64&0.25&0.08&0.03&0.0&0.0\\cr 0.22&0.47&0.21&0.08&0.02&0.0\\cr 0.07&0.25&0.34&0.24&0.08&0.02\\cr 0.04&0.07&0.25&0.31&0.25&0.08\\cr 0.0&0.04&0.07&0.22&0.47&0.2\\cr 0.0&0.0&0.05&x&0.19&0.69\\cr }\"))"
   ]
  }
 ],
 "metadata": {
  "kernelspec": {
   "display_name": "Python 3",
   "language": "python",
   "name": "python3"
  },
  "language_info": {
   "codemirror_mode": {
    "name": "ipython",
    "version": 3
   },
   "file_extension": ".py",
   "mimetype": "text/x-python",
   "name": "python",
   "nbconvert_exporter": "python",
   "pygments_lexer": "ipython3",
   "version": "3.11.0"
  },
  "orig_nbformat": 4,
  "vscode": {
   "interpreter": {
    "hash": "aee8b7b246df8f9039afb4144a1f6fd8d2ca17a180786b69acc140d282b71a49"
   }
  }
 },
 "nbformat": 4,
 "nbformat_minor": 2
}
