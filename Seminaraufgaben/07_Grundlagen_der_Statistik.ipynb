{
 "cells": [
  {
   "attachments": {},
   "cell_type": "markdown",
   "metadata": {},
   "source": [
    "# Aufgabe 1\n",
    "Bei n = 8 Fahrzeugen einer Marke wurde der Kraftstoffverbrauch mit folgenden Ergebnissen untersucht:   \n",
    "$x_i$ Verbrauch in Liter pro 100 km |  &emsp; 7.74 &emsp; 9.16 &emsp; 4.95 &emsp; 6.61 &emsp; 6.28 &emsp; 8.59 &emsp; 5.26 &emsp; 6.47\n",
    "Wir gehen davon aus, dass der Benzinverbrauch normalverteilt mit den unbekannten Parametern $µ$ und $σ$ ist. Gib fur beide Parameter einen Schätzwert anhand der Stichprobe an."
   ]
  },
  {
   "cell_type": "code",
   "execution_count": 5,
   "metadata": {},
   "outputs": [
    {
     "name": "stdout",
     "output_type": "stream",
     "text": [
      "expected value μ = 6.882499999999999\n",
      "𝜎 = 1.50296611500630\n"
     ]
    }
   ],
   "source": [
    "from sympy import sqrt\n",
    "\n",
    "xi = [7.74, 9.16, 4.95, 6.61, 6.28, 8.59, 5.26, 6.47]\n",
    "\n",
    "mu = sum(xi)/len(xi)\n",
    "\n",
    "s_squared = 1/(len(xi)-1) *sum(list(map(lambda x: (x - mu)**2, xi)))\n",
    "\n",
    "\n",
    "print(f'expected value μ = {mu}')\n",
    "print(f'𝜎 = {sqrt(s_squared)}')"
   ]
  },
  {
   "attachments": {},
   "cell_type": "markdown",
   "metadata": {},
   "source": [
    "Ermittle fur die obige Stichprobe einen Vertrauensbereich, in dem die unbekannten Parameter $µ$ und $σ$ mit einer statistischen Sicherheit von $\\gamma = 0.95$ liegen."
   ]
  },
  {
   "cell_type": "code",
   "execution_count": 9,
   "metadata": {},
   "outputs": [
    {
     "name": "stdout",
     "output_type": "stream",
     "text": [
      "c = 2.3646242510102993 is the 0.975-quantile of the Student's t-distribution with f = 7 degrees\n",
      "confindence interval: 5.625988883663723 ≤ 𝜇 ≤ 8.139011116336276\n",
      "confindence interval: 0.07846934450456482 ≤ 𝜎² ≤ 0.7435552590127866\n",
      "\n",
      "c₁ = 1.6898691806773554 is the 0.975000-quantile of the 𝜒²-distribution with f = 7 degrees\n",
      "c₂ = 16.012764274629326 is the 0.975000-quantile of the 𝜒²-distribution with f = 7 degrees\n",
      "confindence interval: 0.9874840926156101 ≤ 𝜎² ≤ 9.357144435086914\n"
     ]
    }
   ],
   "source": [
    "from scipy import stats\n",
    "from numpy import sqrt\n",
    "\n",
    "gamma = 0.95\n",
    "\n",
    "n = len(xi)\n",
    "estimated_mu = mu\n",
    "quantile = ((gamma+1)/2)\n",
    "c = stats.t.ppf(quantile, n-1)\n",
    "tmp = sqrt(s_squared)/sqrt(n)*c\n",
    "\n",
    "\n",
    "quantile1 = ((1-gamma)/2)\n",
    "quantile2 = ((1+gamma)/2)\n",
    "c1 = stats.chi2.ppf(quantile1, n-1)\n",
    "c2 = stats.chi2.ppf(quantile2, n-1)\n",
    "tmp2 = (n-1)*s_squared\n",
    "\n",
    "print(f'c = {c} is the {quantile}-quantile of the Student\\'s t-distribution with f = {n-1} degrees')\n",
    "print(f'confindence interval: {estimated_mu-tmp} ≤ 𝜇 ≤ {estimated_mu+tmp}')\n",
    "print(f'confindence interval: {tmp/c2} ≤ 𝜎² ≤ {tmp/c1}')\n",
    "\n",
    "print(f'\\nc₁ = {c1} is the {quantile:1f}-quantile of the 𝜒²-distribution with f = {n-1} degrees')\n",
    "print(f'c₂ = {c2} is the {quantile:1f}-quantile of the 𝜒²-distribution with f = {n-1} degrees')\n",
    "print(f'confindence interval: {tmp2/c2} ≤ 𝜎² ≤ {tmp2/c1}')"
   ]
  }
 ],
 "metadata": {
  "kernelspec": {
   "display_name": "Python 3",
   "language": "python",
   "name": "python3"
  },
  "language_info": {
   "codemirror_mode": {
    "name": "ipython",
    "version": 3
   },
   "file_extension": ".py",
   "mimetype": "text/x-python",
   "name": "python",
   "nbconvert_exporter": "python",
   "pygments_lexer": "ipython3",
   "version": "3.11.0"
  },
  "orig_nbformat": 4,
  "vscode": {
   "interpreter": {
    "hash": "aee8b7b246df8f9039afb4144a1f6fd8d2ca17a180786b69acc140d282b71a49"
   }
  }
 },
 "nbformat": 4,
 "nbformat_minor": 2
}
