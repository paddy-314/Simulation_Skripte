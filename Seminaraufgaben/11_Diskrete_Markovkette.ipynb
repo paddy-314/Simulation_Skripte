{
 "cells": [
  {
   "attachments": {},
   "cell_type": "markdown",
   "metadata": {},
   "source": [
    "# Aufgabe 1\n",
    "Gegeben ist der Ubergangsgraph einer diskreten Markovkette mit den Zuständen $S = \\{0, 1, 2\\}$.   \n",
    "Stelle die Übergangsmatrix P auf und berechne den Wert p."
   ]
  },
  {
   "cell_type": "code",
   "execution_count": 2,
   "metadata": {},
   "outputs": [],
   "source": [
    "P_mat = [[2/5, 0, 3/5], [3/4, 0, 1/4], [1/8, 2/3, 1- 1/8 - 2/3]]"
   ]
  },
  {
   "attachments": {},
   "cell_type": "markdown",
   "metadata": {},
   "source": [
    "Berechne die Wahrscheinlichkeit dafür, um in zwei Schritten vom Zustand 0 in den Zustand 2 zu gelangen"
   ]
  },
  {
   "cell_type": "code",
   "execution_count": 3,
   "metadata": {},
   "outputs": [
    {
     "name": "stdout",
     "output_type": "stream",
     "text": [
      "Die Wahrscheinlchkeit, um in 2 Schritt(en) von 0 zu 2 zu kommen ist p = 0.365000000000000\n"
     ]
    }
   ],
   "source": [
    "from sympy import Matrix\n",
    "\n",
    "steps = 2\n",
    "start_node = 0\n",
    "end_node = 2\n",
    "\n",
    "P_mat = Matrix(P_mat)\n",
    "print(f'Die Wahrscheinlchkeit, um in {steps} Schritt(en) von {start_node} zu {end_node} zu kommen ist p = {(P_mat**steps)[start_node, end_node]}')"
   ]
  },
  {
   "attachments": {},
   "cell_type": "markdown",
   "metadata": {},
   "source": [
    "Berechne die Wahrscheinlichkeit dafür, um in vier Schritten vom Zustand 0 in den Zustand 2 zu gelangen"
   ]
  },
  {
   "cell_type": "code",
   "execution_count": 4,
   "metadata": {},
   "outputs": [
    {
     "name": "stdout",
     "output_type": "stream",
     "text": [
      "Die Wahrscheinlchkeit, um in 4 Schritt(en) von 0 zu 2 zu kommen ist p = 0.390658680555556\n"
     ]
    }
   ],
   "source": [
    "from sympy import Matrix\n",
    "\n",
    "steps = 4\n",
    "start_node = 0\n",
    "end_node = 2\n",
    "\n",
    "P_mat = Matrix(P_mat)\n",
    "print(f'Die Wahrscheinlchkeit, um in {steps} Schritt(en) von {start_node} zu {end_node} zu kommen ist p = {(P_mat**steps)[start_node, end_node]}')"
   ]
  },
  {
   "attachments": {},
   "cell_type": "markdown",
   "metadata": {},
   "source": [
    "Berechne die Wahrscheinlichkeit dafür, den Zustand zum Zeitpunkt n innerhalb von drei Schritten nicht zu verlassen."
   ]
  },
  {
   "cell_type": "code",
   "execution_count": 7,
   "metadata": {},
   "outputs": [
    {
     "name": "stdout",
     "output_type": "stream",
     "text": [
      "Die Wahrscheinlchkeit, um in 3 Schritt(en) den Zustand nicht zu verlassen ist p = 0.0243474151234568 unter Annahme der Gleichverteilung\n",
      "Die Wahrscheinlchkeit, um in 3 Schritt(en) den Zustand nicht zu verlassen ist p = 0.0279540598290598 unter Annahme des eingeschwungenen Zustands\n"
     ]
    }
   ],
   "source": [
    "from sympy import Matrix, shape\n",
    "from sympy.stats import DiscreteMarkovChain\n",
    "from numpy import power\n",
    "\n",
    "steps = 3\n",
    "\n",
    "P_mat = Matrix(P_mat)\n",
    "Y = DiscreteMarkovChain(\"Y\", list(range(shape(P_mat)[0])), Matrix(P_mat))\n",
    "pi = Y.stationary_distribution()\n",
    "print(f'Die Wahrscheinlchkeit, um in {steps} Schritt(en) den Zustand nicht zu verlassen ist p = {sum(Matrix(power(P_mat, steps)).diagonal())/shape(P_mat)[0]} unter Annahme der Gleichverteilung')\n",
    "print(f'Die Wahrscheinlchkeit, um in {steps} Schritt(en) den Zustand nicht zu verlassen ist p = {pi.dot(Matrix(power(P_mat, steps)).diagonal())} unter Annahme des eingeschwungenen Zustands')"
   ]
  },
  {
   "attachments": {},
   "cell_type": "markdown",
   "metadata": {},
   "source": [
    "Berechne die Wahrscheinlichkeit dafür, zum Zeitpunkt $n + 2$ im selben Zustand zu sein wie zum Zeitpunkt n."
   ]
  },
  {
   "cell_type": "code",
   "execution_count": 10,
   "metadata": {},
   "outputs": [
    {
     "name": "stdout",
     "output_type": "stream",
     "text": [
      "Die Wahrscheinlchkeit, um in 2 Schritt(en) den Zustand nicht zu verlassen ist p = 0.228912037037037 unter Annahme der Gleichverteilung\n",
      "Die Wahrscheinlchkeit, um in 2 Schritt(en) den Zustand nicht zu verlassen ist p = 0.236666666666667 unter Annahme des eingeschwungenen Zustands\n"
     ]
    }
   ],
   "source": [
    "from sympy import Matrix, shape\n",
    "from sympy.stats import DiscreteMarkovChain\n",
    "from numpy import power\n",
    "\n",
    "steps = 2\n",
    "\n",
    "P_mat = Matrix(P_mat)\n",
    "Y = DiscreteMarkovChain(\"Y\", list(range(shape(P_mat)[0])), Matrix(P_mat))\n",
    "pi = Y.stationary_distribution()\n",
    "print(f'Die Wahrscheinlchkeit, um in {steps} Schritt(en) den Zustand nicht zu verlassen ist p = {sum(Matrix(P_mat**steps).diagonal())/shape(P_mat)[0]} unter Annahme der Gleichverteilung')\n",
    "print(f'Die Wahrscheinlchkeit, um in {steps} Schritt(en) den Zustand nicht zu verlassen ist p = {pi.dot(Matrix(P_mat**steps).diagonal())} unter Annahme des eingeschwungenen Zustands')"
   ]
  },
  {
   "attachments": {},
   "cell_type": "markdown",
   "metadata": {},
   "source": [
    "Berechne die stationare Verteilung $π = (π_0, π_1, π_2)$ der diskreten Markovkette."
   ]
  },
  {
   "cell_type": "code",
   "execution_count": 11,
   "metadata": {},
   "outputs": [
    {
     "data": {
      "text/latex": [
       "$\\displaystyle \\left[\\begin{matrix}0.384615384615385 & 0.246153846153846 & 0.369230769230769\\end{matrix}\\right]$"
      ],
      "text/plain": [
       "Matrix([[0.384615384615385, 0.246153846153846, 0.369230769230769]])"
      ]
     },
     "execution_count": 11,
     "metadata": {},
     "output_type": "execute_result"
    }
   ],
   "source": [
    "Y.stationary_distribution()"
   ]
  }
 ],
 "metadata": {
  "kernelspec": {
   "display_name": "Python 3",
   "language": "python",
   "name": "python3"
  },
  "language_info": {
   "codemirror_mode": {
    "name": "ipython",
    "version": 3
   },
   "file_extension": ".py",
   "mimetype": "text/x-python",
   "name": "python",
   "nbconvert_exporter": "python",
   "pygments_lexer": "ipython3",
   "version": "3.11.0"
  },
  "orig_nbformat": 4,
  "vscode": {
   "interpreter": {
    "hash": "aee8b7b246df8f9039afb4144a1f6fd8d2ca17a180786b69acc140d282b71a49"
   }
  }
 },
 "nbformat": 4,
 "nbformat_minor": 2
}
