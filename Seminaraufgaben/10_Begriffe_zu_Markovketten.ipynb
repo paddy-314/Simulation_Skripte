{
 "cells": [
  {
   "attachments": {},
   "cell_type": "markdown",
   "metadata": {},
   "source": [
    "# Aufgabe 1\n",
    "Bezeichne $X_n$ die Position einer Schachfigur auf dem ansonsten leeren Schachbrett nach $n$ Zugen. Untersuche die Eigenschaften für Turm, Läufer und Springer\n",
    "\n",
    "![alt text](chesspieces.png \"chess\")"
   ]
  },
  {
   "attachments": {},
   "cell_type": "markdown",
   "metadata": {},
   "source": [
    "a) \n",
    "- Die Markovkette des Turms ist irreduzibel, da mit dem Turm von jedem Feld aus jedes andere Feld erreicht werden kann. \n",
    "- Sie ist zudem aperiodisch, da der Turm beispielsweise in n = 2 Zügen zum Ausgangsfeld zurückkehren kann (d4-g4-d4), aber auch in n = 3 Zügen (d4-g4-h4-d4). Wegen ggT (2, 3) = 1 gilt Aperiodizität.\n",
    "\n",
    "b)\n",
    "- Die Markovkette des Läufers ist nicht irreduzibel, da man mit einem Läufer auf dem Startfeld d4 nur andere schwarze Felder mit positiver Wahrscheinlichkeit erreichen kann, die weißen Felder aber nie.\n",
    "- Sie ist jedoch aperiodisch, da man bspw. in n = 2 Zugen zum Ausgangsfeld zurückkehren kann (d4-c5-d4) oder in n = 5 Zügen (d4-c5-a3-b2-f6-d4) und demnach ggT (2, 5) = 1 gilt.\n",
    "\n",
    "c)\n",
    "- Die Markovkette des Springers ist irreduzibel. Man kann mit ihm von jedem Startfeld aus jedes andere Feld des Bretts erreichen.\n",
    "- Allerdings ist sie nicht aperiodisch, da der Springer stets alternierend weiße und schwarze Felder besucht. Er kann also lediglich in n = 2, 4, 6, . . . Zügen zu seinem Ausgangsfeld zurückkehren und der größte gemeinsame Teiler dieser möglichen Zugzahlen ist 2."
   ]
  },
  {
   "attachments": {},
   "cell_type": "markdown",
   "metadata": {},
   "source": [
    "# Aufgabe 2\n",
    "Untersuche die Markovkette mit Übergangsmatrix   \n",
    "\n",
    "$P= \\begin{pmatrix} 1-p & p/2 & p/2 \\\\ 1-p & 0 & p \\\\ 1 & 0 & 0\\end{pmatrix}$\n",
    "\n",
    "auf die oben genannten Eigenschaften in Abhängigkeit vom Parameter $p ∈ [0, 1]$."
   ]
  },
  {
   "cell_type": "code",
   "execution_count": 45,
   "metadata": {},
   "outputs": [
    {
     "data": {
      "text/latex": [
       "$\\displaystyle \\operatorname{DiscreteMarkovChain}\\left(Y, \\left( 1, \\  2, \\  3\\right), \\left[\\begin{matrix}0 & 0.5 & 0.5\\\\0 & 0 & 1\\\\1 & 0 & 0\\end{matrix}\\right]\\right)$"
      ],
      "text/plain": [
       "DiscreteMarkovChain(Y, (1, 2, 3), Matrix([\n",
       "[0, 0.5, 0.5],\n",
       "[0,   0,   1],\n",
       "[1,   0,   0]]))"
      ]
     },
     "metadata": {},
     "output_type": "display_data"
    },
    {
     "name": "stdout",
     "output_type": "stream",
     "text": [
      "Knoten: [1, 2, 3] ist rekurrent\n",
      "MC ist ergodisch\n"
     ]
    }
   ],
   "source": [
    "from sympy import Matrix\n",
    "from sympy.stats import DiscreteMarkovChain\n",
    "from IPython.display import display\n",
    "\n",
    "p = 1\n",
    "\n",
    "P_mat =[[1-p, p/2, p/2],\n",
    "        [1-p, 0, p],\n",
    "        [1, 0, 0]]\n",
    "\n",
    "\n",
    "Y = DiscreteMarkovChain(\"Y\", list(range(1, len(P_mat)+1)), Matrix(P_mat))\n",
    "display(Y)\n",
    "for states, is_recurrent, period in Y.communication_classes():\n",
    "    print(f'Knoten: {states} ist {\"rekurrent\" if is_recurrent else \"transient\"}')\n",
    "\n",
    "if Y.is_absorbing_chain(): print(f'MC ist absorbierend')\n",
    "elif Y.is_ergodic(): print(f'MC ist ergodisch')"
   ]
  },
  {
   "attachments": {},
   "cell_type": "markdown",
   "metadata": {},
   "source": [
    "### Irreduzibilität\n",
    "- irreduzibel: jeder Zustand ist von jedem anderen Zustand aus erreichbar\n",
    "- reduzibel: mindestens ein Zustand ist nicht von einem anderen Zustand aus erreichbar\n",
    "\n",
    "### Rekurrenz\n",
    "- rekurrent: Die Rückkehr zu diesem Zustand ist sicher\n",
    "    - positiv rekurrent: Die Rückkehrzeit ist absehbar und damit $< \\infty$\n",
    "    - nullrekurrent: Die Rückkehrzeit ist nicht absehbar und damit $\\infty$\n",
    "- transient: Zustand wird (fast sicher) endlich oft wieder besucht\n",
    "\n",
    "### Periodizität\n",
    "- aperiodisch: Der größte gemeinsame Teiler von der Menge der möglichen Rückkehrzeiten zum Startpunkt ist 1 (ggT = 1)\n",
    "- periodisch: Der größte gemeinsame Teiler von der Menge der möglichen Rückkehrzeiten zum Startpunkt ist nicht 1\n",
    "\n",
    "### Ergodisch & Absorbierend\n",
    "- ergodisch: irreduzibel, aperiodisch und alle Zustände positiv rekurrent\n",
    "- absorbierend: Zustand kann nicht wieder verlassen werden"
   ]
  },
  {
   "cell_type": "code",
   "execution_count": null,
   "metadata": {},
   "outputs": [],
   "source": []
  }
 ],
 "metadata": {
  "kernelspec": {
   "display_name": "Python 3",
   "language": "python",
   "name": "python3"
  },
  "language_info": {
   "codemirror_mode": {
    "name": "ipython",
    "version": 3
   },
   "file_extension": ".py",
   "mimetype": "text/x-python",
   "name": "python",
   "nbconvert_exporter": "python",
   "pygments_lexer": "ipython3",
   "version": "3.11.0"
  },
  "orig_nbformat": 4,
  "vscode": {
   "interpreter": {
    "hash": "aee8b7b246df8f9039afb4144a1f6fd8d2ca17a180786b69acc140d282b71a49"
   }
  }
 },
 "nbformat": 4,
 "nbformat_minor": 2
}
