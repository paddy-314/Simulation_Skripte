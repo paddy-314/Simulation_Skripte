{
 "cells": [
  {
   "attachments": {},
   "cell_type": "markdown",
   "metadata": {},
   "source": [
    "# Aufgabe 1\n",
    "\n",
    "Eine Basketballspielerin hat eine Freiwurftrefferquote von 78%. Wie groß ist die Wahrscheinlichkeit, dass sie bei 20 Versuchen\n",
    "- genau 12 mal trifft\n",
    "- mehr als 16 mal trifft\n",
    "- 13 bis 15 mal trifft"
   ]
  },
  {
   "cell_type": "code",
   "execution_count": 53,
   "metadata": {},
   "outputs": [
    {
     "name": "stdout",
     "output_type": "stream",
     "text": [
      "0.0350577313132898\n",
      "0.328910825875677\n",
      "0.404383423971958\n"
     ]
    }
   ],
   "source": [
    "from sympy import Eq\n",
    "from sympy.stats import Binomial, P\n",
    "\n",
    "n= 20\n",
    "p= 0.78\n",
    "    \n",
    "X = Binomial('X', n, p)\n",
    "\n",
    "##### input here ↓ #####\n",
    "print(f'{P(Eq(X, 12))}')\n",
    "print(f'{P(X > 16)}')\n",
    "print(f'{P(X <= 15) - P(X <= 12)}')"
   ]
  },
  {
   "attachments": {},
   "cell_type": "markdown",
   "metadata": {},
   "source": [
    "# Aufabe 2\n",
    "\n",
    "In einer Sommernacht konnen durchschnittlich 8 Sternschnuppen pro Stunde beobachtet werden (die Anzahl der beobachteten Sternschnuppen sei POISSON-verteilt). Wie groß ist die Wahrscheinlichkeit, während einer Viertelstunde mindestens 3 Sternschnuppen zu sehen?"
   ]
  },
  {
   "cell_type": "code",
   "execution_count": 54,
   "metadata": {},
   "outputs": [
    {
     "name": "stdout",
     "output_type": "stream",
     "text": [
      "0.32332358381693654\n"
     ]
    }
   ],
   "source": [
    "from sympy.stats import Poisson, P\n",
    "\n",
    "lamd = 2 # --> 8 * 1/4 for 1/4 h\n",
    "\n",
    "X = Poisson('X', lamd)\n",
    "\n",
    "########## input here ↓ ##########\n",
    "print(f'{float(P(X >= 3))}')"
   ]
  },
  {
   "attachments": {},
   "cell_type": "markdown",
   "metadata": {},
   "source": [
    "# Aufgabe 3\n",
    "\n",
    "Wir betrachten die Reißfestigkeit von Kettengliedern als normalverteilte Zufallsgröße\n",
    "\n",
    "a) Angenommen, die mittlere Reißfestigkeit liegt bei $µ = 40$ kg und die Standardabweichung bei $σ =\n",
    "5$ kg. Berechne die Wahrscheinlichkeiten dafür, dass die Reißfestigkeit\n",
    "-   unter 35 kg liegt\n",
    "- über 50 kg liegt\n",
    "- zwischen 38 kg und 45 kg liegt"
   ]
  },
  {
   "cell_type": "code",
   "execution_count": 55,
   "metadata": {},
   "outputs": [
    {
     "name": "stdout",
     "output_type": "stream",
     "text": [
      "0.15865525393145705\n",
      "0.02275013194817921\n",
      "0.4967664876788671\n"
     ]
    }
   ],
   "source": [
    "from sympy.stats import P, Normal\n",
    "\n",
    "mu = 40\n",
    "sigma = 5\n",
    "\n",
    "X = Normal('X', mu, sigma)\n",
    "\n",
    "#### input here ↓ ####\n",
    "print(float(P(X < 35)))\n",
    "print(float(P(X > 50)))\n",
    "print(float(P(X <= 45) - P(X <= 38)))"
   ]
  },
  {
   "attachments": {},
   "cell_type": "markdown",
   "metadata": {},
   "source": [
    "b) Durch eine geanderte Materialzusammensetzung ändert sich der Erwartungswert $µ$, während $σ = 5$ kg gleich bleibt. Wie groß muss $µ$ mindestens sein, damit mindestens 95% der Kettenglieder eine Reißfestigkeit von mehr als 55 kg hab"
   ]
  },
  {
   "cell_type": "code",
   "execution_count": 56,
   "metadata": {},
   "outputs": [
    {
     "data": {
      "text/latex": [
       "$\\displaystyle 63.2242681347574$"
      ],
      "text/plain": [
       "63.2242681347574"
      ]
     },
     "execution_count": 56,
     "metadata": {},
     "output_type": "execute_result"
    }
   ],
   "source": [
    "from sympy import solve\n",
    "from sympy.abc import x\n",
    "\n",
    "X = Normal('X', x, sigma)\n",
    "solve(Eq(P(X >= 55), 0.95), x)[0]"
   ]
  },
  {
   "attachments": {},
   "cell_type": "markdown",
   "metadata": {},
   "source": [
    "# Aufgabe 4\n",
    "\n",
    "Die Bearbeitungszeit eines Online-Belegs wird als exponentialverteilte Zufallsgröße aufgefasst, wobei im Mittel 3 Stunden zur Bearbeitung eines Belegs benötigt werden\n",
    "\n",
    "a) Wie groß ist die Wahrscheinlichkeit, dass die Bearbeitung des Belegs schon nach einer Stunde abgeschlossen ist?"
   ]
  },
  {
   "cell_type": "code",
   "execution_count": 57,
   "metadata": {},
   "outputs": [
    {
     "name": "stdout",
     "output_type": "stream",
     "text": [
      "0.283468689426211\n"
     ]
    }
   ],
   "source": [
    "from sympy.stats import P, Exponential\n",
    "\n",
    "expected_value = 3\n",
    "\n",
    "lamd = 1/expected_value\n",
    "X = Exponential('X', lamd)\n",
    "\n",
    "print(P(X <= 1))"
   ]
  },
  {
   "attachments": {},
   "cell_type": "markdown",
   "metadata": {},
   "source": [
    "b) Mit welcher Wahrscheinlichkeit benötigt man zwischen 3 und 4 Stunden für die Bearbeitung?"
   ]
  },
  {
   "cell_type": "code",
   "execution_count": 58,
   "metadata": {},
   "outputs": [
    {
     "name": "stdout",
     "output_type": "stream",
     "text": [
      "0.104282303055716\n"
     ]
    }
   ],
   "source": [
    "print(P(X <= 4) - P(X <= 3))"
   ]
  },
  {
   "attachments": {},
   "cell_type": "markdown",
   "metadata": {},
   "source": [
    "c) Wie lange dauert es mit 95%-iger Wahrscheinlichkeit höchstens, bis die Bearbeitung eines Belegs abgeschlossen ist?"
   ]
  },
  {
   "cell_type": "code",
   "execution_count": 89,
   "metadata": {},
   "outputs": [
    {
     "name": "stdout",
     "output_type": "stream",
     "text": [
      "8.98719682066197\n"
     ]
    }
   ],
   "source": [
    "from sympy import Eq, solve\n",
    "from sympy.abc import x\n",
    "\n",
    "# need to inverse operation --> X < 0.95 to X > 0.05\n",
    "print(solve(Eq(P(X > x), 1-0.95), x)[0])"
   ]
  }
 ],
 "metadata": {
  "kernelspec": {
   "display_name": "Python 3",
   "language": "python",
   "name": "python3"
  },
  "language_info": {
   "codemirror_mode": {
    "name": "ipython",
    "version": 3
   },
   "file_extension": ".py",
   "mimetype": "text/x-python",
   "name": "python",
   "nbconvert_exporter": "python",
   "pygments_lexer": "ipython3",
   "version": "3.11.0"
  },
  "orig_nbformat": 4,
  "vscode": {
   "interpreter": {
    "hash": "aee8b7b246df8f9039afb4144a1f6fd8d2ca17a180786b69acc140d282b71a49"
   }
  }
 },
 "nbformat": 4,
 "nbformat_minor": 2
}
