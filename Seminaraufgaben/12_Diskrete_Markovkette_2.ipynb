{
 "cells": [
  {
   "attachments": {},
   "cell_type": "markdown",
   "metadata": {},
   "source": [
    "# Aufgabe 1\n",
    "Im hart umkampften Nuss-Nougat-Creme-Markt kämpfen drei Produkte um die Marktführerschaft. In einem gewissen Untersuchungszeitraum wurden die Anteile der Kundinnen bestimmt, die von ihrem bisherigen Aufstrich zu einem der beiden anderen gewechselt sind bzw. bei ihrem bisherigen Aufstrich geblieben sind, mit folgendem Resultat:\n",
    "\n",
    "$P= \\begin{pmatrix} 0.65 & 0.25 & 0.10 \\\\ 0.3 & 0.45 & 0.25 \\\\ 0.15 & 0.15 & 0.70\\end{pmatrix}$\n",
    "\n",
    "Bestimme die langfristige prozentuale Aufteilung der Nachfrage nach den drei Aufstrichen"
   ]
  },
  {
   "cell_type": "code",
   "execution_count": 1,
   "metadata": {},
   "outputs": [
    {
     "data": {
      "text/latex": [
       "$\\displaystyle \\left[\\begin{matrix}0.380597014925373 & 0.26865671641791 & 0.350746268656716\\end{matrix}\\right]$"
      ],
      "text/plain": [
       "Matrix([[0.380597014925373, 0.26865671641791, 0.350746268656716]])"
      ]
     },
     "execution_count": 1,
     "metadata": {},
     "output_type": "execute_result"
    }
   ],
   "source": [
    "from sympy import Matrix, shape\n",
    "from sympy.stats import DiscreteMarkovChain\n",
    "\n",
    "P_mat = [[0.65, 0.25, 0.10], [0.30, 0.45, 0.25], [0.15, 0.15, 0.70]]\n",
    "\n",
    "P_mat = Matrix(P_mat)\n",
    "Y = DiscreteMarkovChain(\"Y\", list(range(shape(P_mat)[0])), Matrix(P_mat))\n",
    "Y.stationary_distribution()"
   ]
  },
  {
   "cell_type": "code",
   "execution_count": null,
   "metadata": {},
   "outputs": [],
   "source": []
  }
 ],
 "metadata": {
  "kernelspec": {
   "display_name": "Python 3",
   "language": "python",
   "name": "python3"
  },
  "language_info": {
   "codemirror_mode": {
    "name": "ipython",
    "version": 3
   },
   "file_extension": ".py",
   "mimetype": "text/x-python",
   "name": "python",
   "nbconvert_exporter": "python",
   "pygments_lexer": "ipython3",
   "version": "3.11.0"
  },
  "orig_nbformat": 4,
  "vscode": {
   "interpreter": {
    "hash": "aee8b7b246df8f9039afb4144a1f6fd8d2ca17a180786b69acc140d282b71a49"
   }
  }
 },
 "nbformat": 4,
 "nbformat_minor": 2
}
