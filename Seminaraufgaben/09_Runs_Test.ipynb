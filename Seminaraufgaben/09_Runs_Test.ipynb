{
 "cells": [
  {
   "attachments": {},
   "cell_type": "markdown",
   "metadata": {},
   "source": [
    "# Aufgabe 1\n",
    "Alice hat einen fairen Würfel $n = 50$ mal gewürfelt und sich eine 0 notiert, wenn die gewürfelte Zahl ungerade war und eine 1, wenn sie gerade war. Anschließend hat sie ”zufallig“ eine 0-1-Folge der Länge 50 aufgeschrieben. Die beiden so entstandenen Folgen sind:   \n",
    "\n",
    "$a1 = 11100010111010011011001010111000110101111100100110$   \n",
    "$a2 = 01001101101110010101101100010100010110101011001011$\n",
    "\n",
    "Entscheide bei einer Irrtumswahrscheinlichkeit von $α = 0.05$, welche der beiden Folgen tatsachlich zufällig entstanden ist (also durch Würfeln)"
   ]
  },
  {
   "cell_type": "code",
   "execution_count": 4,
   "metadata": {},
   "outputs": [
    {
     "name": "stdout",
     "output_type": "stream",
     "text": [
      "number of runs = 28\n",
      "we expect 𝜇ᵣ = 25.5 runs with a variation of 𝜎²ᵣ = 12.25\n",
      "critical value 1.959963984540054\n",
      "test value: 𝑢̂ = 0.7142857142857143\n",
      "the sample seems to be equally randomly distributed with a 5.0% error rate\n"
     ]
    }
   ],
   "source": [
    "import numpy as np\n",
    "import scipy.stats\n",
    "\n",
    "a1=np.array([1,1,1,0,0,0,1,0,1,1,1,0,1,0,0,1,1,0,1,1,0,0,1,0,1,0,1,1,1,0,0,0,1,1,0,1,0,1,1,1,1,1,0,0,1,0,0,1,1,0])\n",
    "a2=np.array([0,1,0,0,1,1,0,1,1,0,1,1,1,0,0,1,0,1,0,1,1,0,1,1,0,0,0,1,0,1,0,0,0,1,0,1,1,0,1,0,1,0,1,1,0,0,1,0,1,1])\n",
    "alpha = 0.05\n",
    "\n",
    "\n",
    "lastElement = -1 # set arbitrary value to ensure not to falsify the first value change\n",
    "r = 0\n",
    "for item in a1: \n",
    "    if item != lastElement: r+=1\n",
    "    lastElement = item\n",
    "np.round(a1, 0)\n",
    "n = len(a1)\n",
    "mu_R = (n+1)/2\n",
    "sigma_squared = (n-1)/4\n",
    "\n",
    "quantile = 1-(alpha/2)\n",
    "c = scipy.stats.norm.ppf(quantile)\n",
    "u = (r-mu_R)/np.sqrt(sigma_squared)\n",
    "\n",
    "print(f'number of runs = {r}')\n",
    "print(f\"we expect 𝜇ᵣ = {mu_R} runs with a variation of 𝜎²ᵣ = {sigma_squared}\")\n",
    "print(f'critical value {c}')\n",
    "print(f'test value: 𝑢̂ = {u}')\n",
    "print(f\"the sample {'seems' if abs(u) <= abs(c) else 'does NOT seem'} to be equally randomly distributed with a {alpha*100}% error rate\")"
   ]
  }
 ],
 "metadata": {
  "kernelspec": {
   "display_name": "Python 3",
   "language": "python",
   "name": "python3"
  },
  "language_info": {
   "codemirror_mode": {
    "name": "ipython",
    "version": 3
   },
   "file_extension": ".py",
   "mimetype": "text/x-python",
   "name": "python",
   "nbconvert_exporter": "python",
   "pygments_lexer": "ipython3",
   "version": "3.11.0"
  },
  "orig_nbformat": 4,
  "vscode": {
   "interpreter": {
    "hash": "aee8b7b246df8f9039afb4144a1f6fd8d2ca17a180786b69acc140d282b71a49"
   }
  }
 },
 "nbformat": 4,
 "nbformat_minor": 2
}
