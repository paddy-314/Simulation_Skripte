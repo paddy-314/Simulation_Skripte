{
 "cells": [
  {
   "attachments": {},
   "cell_type": "markdown",
   "metadata": {},
   "source": [
    "# Aufgabe 1\n",
    "Bestimme zum Modul $m = 72$ den kleinstmöglichen Faktor $a ≥ \\sqrt{m}$ und das kleinstmögliche Inkrement $c ≥ \\frac{m}{5}$, sodass die Forderungen des Satzes von KNUTH erfullt sind."
   ]
  },
  {
   "cell_type": "code",
   "execution_count": 8,
   "metadata": {},
   "outputs": [
    {
     "name": "stdout",
     "output_type": "stream",
     "text": [
      "13\n"
     ]
    }
   ],
   "source": [
    "from sympy import primefactors\n",
    "from math import lcm\n",
    "\n",
    "m = 72\n",
    "\n",
    "a = lcm(*primefactors(m)) # prime factorization, find least common multiple\n",
    "tmp = a\n",
    "def test(a):\n",
    "    if m % 4 == 0: # m is divisible by 4 -> a as well\n",
    "        if (a) % 4 != 0: return test(a+tmp)\n",
    "    return a+1\n",
    "\n",
    "print(test(a))"
   ]
  },
  {
   "attachments": {},
   "cell_type": "markdown",
   "metadata": {},
   "source": [
    "Bilde die ersten 4 Pseudozufallszahlen fur die obige Parameterwahl für den Startwert $x_0 = 1$"
   ]
  },
  {
   "cell_type": "code",
   "execution_count": 13,
   "metadata": {},
   "outputs": [
    {
     "name": "stdout",
     "output_type": "stream",
     "text": [
      "a = 13 \n",
      "c = 17 \n",
      "zi = [0.013888888888888888, 0.4166666666666667, 0.6527777777777778, 0.7222222222222222]\n"
     ]
    }
   ],
   "source": [
    "from sympy import primefactors, floor, sqrt\n",
    "from math import lcm, gcd\n",
    "\n",
    "randomNumbers = [1] # starting value / seed\n",
    "n = 4 # define how many random numbers should be generated\n",
    "\n",
    "\n",
    "a = lcm(*primefactors(m)) # prime factorization, find least common multiple\n",
    "\n",
    "tmp = a\n",
    "while a < floor(sqrt(m)): # a does not meet condition >= floor(sqrt(m))\n",
    "    a += tmp\n",
    "if m % 4 == 0: # m is divisible by 4 -> a as well\n",
    "    while a % 4 != 0:\n",
    "        a += tmp\n",
    "a+=1 # finally add 1 to reverse operation (a -1) to get prime devisor\n",
    "\n",
    "for c in range(floor(m/5), m):\n",
    "    xi = randomNumbers.copy()\n",
    "    for i in range(m):\n",
    "        val = (a*xi[i]+c) % m\n",
    "        if val not in xi:\n",
    "            xi.append(val)\n",
    "        else: break\n",
    "    # check if m and c are coprime\n",
    "    if len(set(xi)) == m and gcd(m, c) == 1: break\n",
    "\n",
    "zi = [xi[i]/m for i in range(n)]\n",
    "\n",
    "print(f\"a = {a} \\nc = {c} \\nzi = {zi}\")"
   ]
  },
  {
   "cell_type": "markdown",
   "metadata": {},
   "source": []
  }
 ],
 "metadata": {
  "kernelspec": {
   "display_name": "Python 3",
   "language": "python",
   "name": "python3"
  },
  "language_info": {
   "codemirror_mode": {
    "name": "ipython",
    "version": 3
   },
   "file_extension": ".py",
   "mimetype": "text/x-python",
   "name": "python",
   "nbconvert_exporter": "python",
   "pygments_lexer": "ipython3",
   "version": "3.11.0"
  },
  "orig_nbformat": 4,
  "vscode": {
   "interpreter": {
    "hash": "aee8b7b246df8f9039afb4144a1f6fd8d2ca17a180786b69acc140d282b71a49"
   }
  }
 },
 "nbformat": 4,
 "nbformat_minor": 2
}
