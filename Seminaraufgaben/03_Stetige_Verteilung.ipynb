{
 "cells": [
  {
   "attachments": {},
   "cell_type": "markdown",
   "metadata": {},
   "source": [
    "# Aufgabe 1\n",
    "Sei $X$ eine stetige Zufallsgroße mit der Wahrscheinlichkeitsdichte   \n",
    "$ f_X(x)=   \\left\\{\n",
    "\\begin{array}{ll}\n",
    "      \\frac{x}{9} + c & \\text{falls} & 0 \\le x \\le 3 \\\\\n",
    "      0 & \\text{sonst} \\\\\n",
    "\\end{array} \n",
    "\\right.$\n",
    "- Bestimme den Wert des Parameters c"
   ]
  },
  {
   "cell_type": "code",
   "execution_count": 19,
   "metadata": {},
   "outputs": [
    {
     "name": "stdout",
     "output_type": "stream",
     "text": [
      "1/6\n"
     ]
    }
   ],
   "source": [
    "from sympy import Piecewise, solve, Eq\n",
    "from sympy.abc import x, c\n",
    "\n",
    "xmin = 0\n",
    "xmax = 3\n",
    "\n",
    "f = Piecewise(((x/9) + c, (x>=xmin) & (x<=xmax)), (0,True)) # define function, lower and upper limit; 0 else\n",
    "F = f.integrate(x)\n",
    "\n",
    "c_value = solve(Eq(F.subs(x, xmax) - F.subs(x, xmin), 1), c)[0]\n",
    "f = f.subs(c, c_value)\n",
    "F = F.subs(c, c_value)\n",
    "\n",
    "print(c_value)"
   ]
  },
  {
   "attachments": {},
   "cell_type": "markdown",
   "metadata": {},
   "source": [
    "- Gib die Verteilungsfunktion $F_X$ an"
   ]
  },
  {
   "cell_type": "code",
   "execution_count": 20,
   "metadata": {},
   "outputs": [
    {
     "data": {
      "text/latex": [
       "$\\displaystyle \\begin{cases} 0 & \\text{for}\\: x \\leq 0 \\\\\\frac{x^{2}}{18} + \\frac{x}{6} & \\text{for}\\: x \\leq 3 \\\\1 & \\text{otherwise} \\end{cases}$"
      ],
      "text/plain": [
       "Piecewise((0, x <= 0), (x**2/18 + x/6, x <= 3), (1, True))"
      ]
     },
     "execution_count": 20,
     "metadata": {},
     "output_type": "execute_result"
    }
   ],
   "source": [
    "F"
   ]
  },
  {
   "attachments": {},
   "cell_type": "markdown",
   "metadata": {},
   "source": [
    "- Berechne $P(1 ≤ X ≤ 2)$ und $P(X ≥ 2.5)$ sowie Erwartungswert und Varianz von X"
   ]
  },
  {
   "cell_type": "code",
   "execution_count": 21,
   "metadata": {},
   "outputs": [
    {
     "name": "stdout",
     "output_type": "stream",
     "text": [
      "1/3\n",
      "0.236111111111111\n",
      "expected value μ = 7/4\n",
      "variance σ² = 11/16\n"
     ]
    }
   ],
   "source": [
    "from sympy.stats import ContinuousRV, P, E, variance\n",
    "\n",
    "X = ContinuousRV(x, f)\n",
    "\n",
    "print(P(X <= 2) - P(X <= 1))\n",
    "print(P(X >= 2.5))\n",
    "print(f'expected value μ = {E(X)}')\n",
    "print(f'variance σ\\u00b2 = {variance(X)}')"
   ]
  },
  {
   "attachments": {},
   "cell_type": "markdown",
   "metadata": {},
   "source": [
    "# Aufgabe 2\n",
    "Eine stetige Zufallsgroße habe die Verteilungsfunktion   \n",
    "$ F_X(x)=   \\left\\{\n",
    "\\begin{array}{ll}\n",
    "    0 & \\text{falls} & x < -2 \\\\\n",
    "    \\frac{(x+2)^2}{36} & \\text{falls} & -2 \\le x \\le 4 \\\\\n",
    "    1 & \\text{sonst} \\\\\n",
    "\\end{array} \n",
    "\\right.$\n",
    "- Berechne die Wahrscheinlichkeiten $P(X ≤ 3)$, $P(X = 0)$ und $P(−1 ≤ X ≤ 3)$"
   ]
  },
  {
   "cell_type": "code",
   "execution_count": 24,
   "metadata": {},
   "outputs": [
    {
     "name": "stdout",
     "output_type": "stream",
     "text": [
      "25/36\n",
      "0\n",
      "2/3\n"
     ]
    }
   ],
   "source": [
    "from sympy import Piecewise\n",
    "from sympy.abc import x\n",
    "\n",
    "xmin = -2\n",
    "xmax = 4\n",
    "\n",
    "F = Piecewise((0, x < -2), (((x+2)**2/36), (x>=xmin) & (x<=xmax)), (1,True)) # define function, lower and upper limit; 0 else\n",
    "f = F.diff(x)\n",
    "X = ContinuousRV(x, f)\n",
    "\n",
    "print(P(X <= 3))\n",
    "print(P(X == 0))\n",
    "print(P(X <= 3) - P(X <= -1))\n",
    "\n"
   ]
  },
  {
   "attachments": {},
   "cell_type": "markdown",
   "metadata": {},
   "source": [
    "- Bestimme die zugehorige Dichtefunktion $f_X(x)$ sowie den Erwartungswert $µ$ der Zufallsgroße $X$"
   ]
  },
  {
   "cell_type": "code",
   "execution_count": 25,
   "metadata": {},
   "outputs": [
    {
     "data": {
      "text/latex": [
       "$\\displaystyle \\begin{cases} 0 & \\text{for}\\: x < -2 \\\\\\frac{x}{18} + \\frac{1}{9} & \\text{for}\\: x \\leq 4 \\\\0 & \\text{otherwise} \\end{cases}$"
      ],
      "text/plain": [
       "Piecewise((0, x < -2), (x/18 + 1/9, x <= 4), (0, True))"
      ]
     },
     "metadata": {},
     "output_type": "display_data"
    },
    {
     "name": "stdout",
     "output_type": "stream",
     "text": [
      "expected value μ = 2\n"
     ]
    }
   ],
   "source": [
    "from IPython.display import display\n",
    "\n",
    "display(f)\n",
    "print(f'expected value μ = {E(X)}')"
   ]
  }
 ],
 "metadata": {
  "kernelspec": {
   "display_name": "Python 3",
   "language": "python",
   "name": "python3"
  },
  "language_info": {
   "codemirror_mode": {
    "name": "ipython",
    "version": 3
   },
   "file_extension": ".py",
   "mimetype": "text/x-python",
   "name": "python",
   "nbconvert_exporter": "python",
   "pygments_lexer": "ipython3",
   "version": "3.11.0"
  },
  "orig_nbformat": 4,
  "vscode": {
   "interpreter": {
    "hash": "aee8b7b246df8f9039afb4144a1f6fd8d2ca17a180786b69acc140d282b71a49"
   }
  }
 },
 "nbformat": 4,
 "nbformat_minor": 2
}
