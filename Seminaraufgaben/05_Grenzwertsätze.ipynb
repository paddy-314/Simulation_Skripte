{
 "cells": [
  {
   "attachments": {},
   "cell_type": "markdown",
   "metadata": {},
   "source": [
    "# Aufgabe 1\n",
    "\n",
    "Bei einem Single-Choice-Test stehen bei jeder Frage 2 Antwortmoglichkeiten zur Verfügung (eine richtige, eine falsche). Wie groß ist die Wahrscheinlichkeit p, bei 50 Fragen durch bloßes Raten zwischen 30 und 40 mal richtig zu liegen?\n",
    "- Berechne p mithilfe der Binomialverteilung"
   ]
  },
  {
   "cell_type": "code",
   "execution_count": 3,
   "metadata": {},
   "outputs": [
    {
     "name": "stdout",
     "output_type": "stream",
     "text": [
      "0.101316568482224\n"
     ]
    }
   ],
   "source": [
    "from sympy.stats import Binomial, P\n",
    "\n",
    "n= 50\n",
    "p= 0.5\n",
    "    \n",
    "X = Binomial('X', n, p)\n",
    "\n",
    "print(f'{P(X <= 40) - P(X <= 29)}')"
   ]
  },
  {
   "attachments": {},
   "cell_type": "markdown",
   "metadata": {},
   "source": [
    "- Berechne p näherungsweise mithilfe der Standardnormalverteilung"
   ]
  },
  {
   "cell_type": "code",
   "execution_count": 9,
   "metadata": {},
   "outputs": [
    {
     "name": "stdout",
     "output_type": "stream",
     "text": [
      "0.07863855827664307\n"
     ]
    }
   ],
   "source": [
    "from sympy import sqrt\n",
    "from sympy.stats import P, Normal\n",
    "\n",
    "if not n*p*(1-p) > 9:\n",
    "    raise NotImplementedError(\"Satz von MOIVRE-LAPLACE nicht erfüllt\")\n",
    "\n",
    "mu = n*p\n",
    "sigma = sqrt(n*p*(1-p))\n",
    "X = Normal('X', mu, sigma)\n",
    "\n",
    "print(f'{float(P(X <= 40) - P(X <= 30))}')"
   ]
  },
  {
   "attachments": {},
   "cell_type": "markdown",
   "metadata": {},
   "source": [
    "Beim Übergang einer binomialverteilten Zufallsgröße $X$ zur Standardnormalverteilung erhält man eine bessere Approximation durch die so genannte Stetigkeitskorrektur. Bei ihr wird der Wert 0.5 von der Untergrenze des Intervalls subtrahiert und zur Obergrenze des Intervalls addiert:  \n",
    "\n",
    "$P(a ≤ X ≤ b) \\approx \\phi (\\frac{(b+0.5) - \\mu_X}{\\sigma_X}) - \\phi (\\frac{(a-0.5) - \\mu_X}{\\sigma_X})$\n",
    "\n",
    "- Berechne p näherungsweise mithilfe der Standardnormalverteilung und Stetigkeitskorrektur"
   ]
  },
  {
   "cell_type": "code",
   "execution_count": 11,
   "metadata": {},
   "outputs": [
    {
     "name": "stdout",
     "output_type": "stream",
     "text": [
      "0.1015400694598984\n"
     ]
    }
   ],
   "source": [
    "print(f'{float(P(X <= 40 + 0.5) - P(X <= 30 - 0.5))}')"
   ]
  },
  {
   "attachments": {},
   "cell_type": "markdown",
   "metadata": {},
   "source": [
    "- Darf die POISSON-Verteilung zur naherungsweisen Berechnung von p in dieser Situation genutzt werden?"
   ]
  },
  {
   "cell_type": "code",
   "execution_count": 10,
   "metadata": {},
   "outputs": [
    {
     "name": "stdout",
     "output_type": "stream",
     "text": [
      "Nein\n"
     ]
    }
   ],
   "source": [
    "if n*p <10 and n/p >1500:\n",
    "    print(\"Ja\")\n",
    "else:\n",
    "    print(\"Nein\")"
   ]
  }
 ],
 "metadata": {
  "kernelspec": {
   "display_name": "Python 3",
   "language": "python",
   "name": "python3"
  },
  "language_info": {
   "codemirror_mode": {
    "name": "ipython",
    "version": 3
   },
   "file_extension": ".py",
   "mimetype": "text/x-python",
   "name": "python",
   "nbconvert_exporter": "python",
   "pygments_lexer": "ipython3",
   "version": "3.11.0"
  },
  "orig_nbformat": 4,
  "vscode": {
   "interpreter": {
    "hash": "aee8b7b246df8f9039afb4144a1f6fd8d2ca17a180786b69acc140d282b71a49"
   }
  }
 },
 "nbformat": 4,
 "nbformat_minor": 2
}
