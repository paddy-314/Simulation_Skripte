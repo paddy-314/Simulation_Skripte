{
 "cells": [
  {
   "attachments": {},
   "cell_type": "markdown",
   "metadata": {},
   "source": [
    "# Aufgabe 1\n",
    "Gegeben ist der Übergangsgraph einer stetigen Markovkette mit den Zuständen $S = \\{0, 1, 2\\}$. An den Kanten des Graphen stehen die jeweiligen Übergangsraten $q_{ij}$.\n",
    "Berechne die stationare Verteilung $π = (π_0, π_1, π_2) $"
   ]
  },
  {
   "cell_type": "code",
   "execution_count": 1,
   "metadata": {},
   "outputs": [],
   "source": [
    "P_mat =[[0, 0, 1/2],\n",
    "        [1/20, 0, 1/4],\n",
    "        [1/10, 2/9, 0]]"
   ]
  },
  {
   "cell_type": "code",
   "execution_count": 2,
   "metadata": {},
   "outputs": [
    {
     "data": {
      "text/latex": [
       "$\\displaystyle \\operatorname{ContinuousMarkovChain}\\left(Y, \\left( 0, \\  1, \\  2\\right), \\left[\\begin{matrix}-0.5 & 0 & 0.5\\\\0.05 & -0.3 & 0.25\\\\0.1 & 0.222222222222222 & -0.322222222222222\\end{matrix}\\right]\\right)$"
      ],
      "text/plain": [
       "ContinuousMarkovChain(Y, (0, 1, 2), Matrix([\n",
       "[-0.5,                 0,                0.5],\n",
       "[0.05,              -0.3,               0.25],\n",
       "[ 0.1, 0.222222222222222, -0.322222222222222]]))"
      ]
     },
     "metadata": {},
     "output_type": "display_data"
    },
    {
     "data": {
      "text/plain": [
       "{pi[0]: 0.136029411764706, pi[1]: 0.367647058823529, pi[2]: 0.496323529411765}"
      ]
     },
     "execution_count": 2,
     "metadata": {},
     "output_type": "execute_result"
    }
   ],
   "source": [
    "from sympy import Matrix, Sum, IndexedBase, solve\n",
    "from sympy.stats import ContinuousMarkovChain\n",
    "from IPython.display import display\n",
    "from sympy.abc import j, pi, i, q\n",
    "from itertools import product\n",
    "\n",
    "for i, row in enumerate(P_mat):\n",
    "    if row[i] == 0: row[i] = -sum(row)\n",
    "    \n",
    "Y = ContinuousMarkovChain(\"Y\", list(range(len(P_mat))), Matrix(P_mat))\n",
    "display(Y)\n",
    "\n",
    "pi = IndexedBase('pi')\n",
    "q = IndexedBase('q')\n",
    "\n",
    "equations = []\n",
    "\n",
    "for i, node in enumerate(P_mat):\n",
    "    inflow = Sum(pi[j] * q[j,i], (j, 0, len(P_mat)-1)) - Sum(pi[j] * q[j,i], (j, i, i)) # remove the element where i == j\n",
    "    outflow = Sum(pi[i] * q[i,j], (j, 0, len(P_mat)-1)) - Sum(pi[i] * q[i,j], (j, i, i)) # remove the element where i == j\n",
    "    equation = (inflow-outflow).doit()\n",
    "    equations.append(equation.subs([(q[j, i], P_mat[j][i]) for j, i in product(range(len(P_mat)), range(len(P_mat)))]).doit()) # plug in the values from the matrix\n",
    "\n",
    "equations.append((Sum(pi[j],(j, 0, len(P_mat)-1))-1).doit()) # side condition, sum of probs need to be 1\n",
    "solve(equations)\n"
   ]
  }
 ],
 "metadata": {
  "kernelspec": {
   "display_name": "Python 3",
   "language": "python",
   "name": "python3"
  },
  "language_info": {
   "codemirror_mode": {
    "name": "ipython",
    "version": 3
   },
   "file_extension": ".py",
   "mimetype": "text/x-python",
   "name": "python",
   "nbconvert_exporter": "python",
   "pygments_lexer": "ipython3",
   "version": "3.11.0"
  },
  "orig_nbformat": 4,
  "vscode": {
   "interpreter": {
    "hash": "aee8b7b246df8f9039afb4144a1f6fd8d2ca17a180786b69acc140d282b71a49"
   }
  }
 },
 "nbformat": 4,
 "nbformat_minor": 2
}
